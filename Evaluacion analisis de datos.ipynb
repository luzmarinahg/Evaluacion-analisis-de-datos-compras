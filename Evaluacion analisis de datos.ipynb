{
 "cells": [
  {
   "cell_type": "code",
   "execution_count": 1,
   "metadata": {},
   "outputs": [],
   "source": [
    "#Primero procedemos a importar las librerias que vamos a usar\n",
    "#Tratamiento de datos\n",
    "# -----------------------------------------------------------------------\n",
    "import pandas as pd\n",
    "import numpy as np\n",
    "\n",
    "# Imputación de nulos usando métodos avanzados estadísticos\n",
    "# -----------------------------------------------------------------------\n",
    "from sklearn.impute import SimpleImputer\n",
    "from sklearn.experimental import enable_iterative_imputer\n",
    "from sklearn.impute import IterativeImputer\n",
    "from sklearn.impute import KNNImputer\n",
    "\n",
    "# Librerías de visualización\n",
    "# -----------------------------------------------------------------------\n",
    "import seaborn as sns\n",
    "import matplotlib.pyplot as plt\n",
    "\n",
    "# Evaluar linealidad de las relaciones entre las variables\n",
    "# ------------------------------------------------------------------------------\n",
    "import scipy.stats as stats\n",
    "from scipy.stats import shapiro, poisson, chisquare, expon, kstest, f_oneway\n",
    "\n",
    "\n",
    "# Configuración\n",
    "# -----------------------------------------------------------------------\n",
    "pd.set_option('display.max_columns', None) # para poder visualizar todas las columnas de los DataFrames\n",
    "\n",
    "# Gestión de los warnings\n",
    "# -----------------------------------------------------------------------\n",
    "import warnings\n",
    "warnings.filterwarnings(\"ignore\")"
   ]
  },
  {
   "cell_type": "code",
   "execution_count": 2,
   "metadata": {},
   "outputs": [],
   "source": [
    "# cargamos los csv con los datos de los clientes y de las promociones\n",
    "df_customer_activity = pd.read_csv(\"Customer Flight Activity.csv\")\n",
    "df_customer_history = pd.read_csv(\"Customer Loyalty History.csv\")\n"
   ]
  },
  {
   "cell_type": "markdown",
   "metadata": {},
   "source": [
    "# Fase 1: Exploracion y limpieza "
   ]
  },
  {
   "cell_type": "markdown",
   "metadata": {},
   "source": [
    " ## 1.1. Exploracion inicial"
   ]
  },
  {
   "cell_type": "markdown",
   "metadata": {},
   "source": [
    "### 1.1.1. Exploracion CSV Customer Flight Activity"
   ]
  },
  {
   "cell_type": "code",
   "execution_count": 3,
   "metadata": {},
   "outputs": [
    {
     "data": {
      "text/html": [
       "<div>\n",
       "<style scoped>\n",
       "    .dataframe tbody tr th:only-of-type {\n",
       "        vertical-align: middle;\n",
       "    }\n",
       "\n",
       "    .dataframe tbody tr th {\n",
       "        vertical-align: top;\n",
       "    }\n",
       "\n",
       "    .dataframe thead th {\n",
       "        text-align: right;\n",
       "    }\n",
       "</style>\n",
       "<table border=\"1\" class=\"dataframe\">\n",
       "  <thead>\n",
       "    <tr style=\"text-align: right;\">\n",
       "      <th></th>\n",
       "      <th>Loyalty Number</th>\n",
       "      <th>Year</th>\n",
       "      <th>Month</th>\n",
       "      <th>Flights Booked</th>\n",
       "      <th>Flights with Companions</th>\n",
       "      <th>Total Flights</th>\n",
       "      <th>Distance</th>\n",
       "      <th>Points Accumulated</th>\n",
       "      <th>Points Redeemed</th>\n",
       "      <th>Dollar Cost Points Redeemed</th>\n",
       "    </tr>\n",
       "  </thead>\n",
       "  <tbody>\n",
       "    <tr>\n",
       "      <th>0</th>\n",
       "      <td>100018</td>\n",
       "      <td>2017</td>\n",
       "      <td>1</td>\n",
       "      <td>3</td>\n",
       "      <td>0</td>\n",
       "      <td>3</td>\n",
       "      <td>1521</td>\n",
       "      <td>152.0</td>\n",
       "      <td>0</td>\n",
       "      <td>0</td>\n",
       "    </tr>\n",
       "    <tr>\n",
       "      <th>1</th>\n",
       "      <td>100102</td>\n",
       "      <td>2017</td>\n",
       "      <td>1</td>\n",
       "      <td>10</td>\n",
       "      <td>4</td>\n",
       "      <td>14</td>\n",
       "      <td>2030</td>\n",
       "      <td>203.0</td>\n",
       "      <td>0</td>\n",
       "      <td>0</td>\n",
       "    </tr>\n",
       "    <tr>\n",
       "      <th>2</th>\n",
       "      <td>100140</td>\n",
       "      <td>2017</td>\n",
       "      <td>1</td>\n",
       "      <td>6</td>\n",
       "      <td>0</td>\n",
       "      <td>6</td>\n",
       "      <td>1200</td>\n",
       "      <td>120.0</td>\n",
       "      <td>0</td>\n",
       "      <td>0</td>\n",
       "    </tr>\n",
       "    <tr>\n",
       "      <th>3</th>\n",
       "      <td>100214</td>\n",
       "      <td>2017</td>\n",
       "      <td>1</td>\n",
       "      <td>0</td>\n",
       "      <td>0</td>\n",
       "      <td>0</td>\n",
       "      <td>0</td>\n",
       "      <td>0.0</td>\n",
       "      <td>0</td>\n",
       "      <td>0</td>\n",
       "    </tr>\n",
       "    <tr>\n",
       "      <th>4</th>\n",
       "      <td>100272</td>\n",
       "      <td>2017</td>\n",
       "      <td>1</td>\n",
       "      <td>0</td>\n",
       "      <td>0</td>\n",
       "      <td>0</td>\n",
       "      <td>0</td>\n",
       "      <td>0.0</td>\n",
       "      <td>0</td>\n",
       "      <td>0</td>\n",
       "    </tr>\n",
       "  </tbody>\n",
       "</table>\n",
       "</div>"
      ],
      "text/plain": [
       "   Loyalty Number  Year  Month  Flights Booked  Flights with Companions  \\\n",
       "0          100018  2017      1               3                        0   \n",
       "1          100102  2017      1              10                        4   \n",
       "2          100140  2017      1               6                        0   \n",
       "3          100214  2017      1               0                        0   \n",
       "4          100272  2017      1               0                        0   \n",
       "\n",
       "   Total Flights  Distance  Points Accumulated  Points Redeemed  \\\n",
       "0              3      1521               152.0                0   \n",
       "1             14      2030               203.0                0   \n",
       "2              6      1200               120.0                0   \n",
       "3              0         0                 0.0                0   \n",
       "4              0         0                 0.0                0   \n",
       "\n",
       "   Dollar Cost Points Redeemed  \n",
       "0                            0  \n",
       "1                            0  \n",
       "2                            0  \n",
       "3                            0  \n",
       "4                            0  "
      ]
     },
     "execution_count": 3,
     "metadata": {},
     "output_type": "execute_result"
    }
   ],
   "source": [
    "# Primero hacemos una vision general de cada DataFrame\n",
    "#Customer  Flight Activity\n",
    "df_customer_activity.head()\n"
   ]
  },
  {
   "cell_type": "code",
   "execution_count": 4,
   "metadata": {},
   "outputs": [
    {
     "name": "stdout",
     "output_type": "stream",
     "text": [
      "El DataFrame Customer Flight Activity tiene 405624 filas y 10 columnas.\n"
     ]
    }
   ],
   "source": [
    "print(f\"El DataFrame Customer Flight Activity tiene {df_customer_activity.shape[0]} filas y {df_customer_activity.shape[1]} columnas.\")"
   ]
  },
  {
   "cell_type": "code",
   "execution_count": 5,
   "metadata": {},
   "outputs": [
    {
     "name": "stdout",
     "output_type": "stream",
     "text": [
      "<class 'pandas.core.frame.DataFrame'>\n",
      "RangeIndex: 405624 entries, 0 to 405623\n",
      "Data columns (total 10 columns):\n",
      " #   Column                       Non-Null Count   Dtype  \n",
      "---  ------                       --------------   -----  \n",
      " 0   Loyalty Number               405624 non-null  int64  \n",
      " 1   Year                         405624 non-null  int64  \n",
      " 2   Month                        405624 non-null  int64  \n",
      " 3   Flights Booked               405624 non-null  int64  \n",
      " 4   Flights with Companions      405624 non-null  int64  \n",
      " 5   Total Flights                405624 non-null  int64  \n",
      " 6   Distance                     405624 non-null  int64  \n",
      " 7   Points Accumulated           405624 non-null  float64\n",
      " 8   Points Redeemed              405624 non-null  int64  \n",
      " 9   Dollar Cost Points Redeemed  405624 non-null  int64  \n",
      "dtypes: float64(1), int64(9)\n",
      "memory usage: 30.9 MB\n"
     ]
    }
   ],
   "source": [
    "df_customer_activity.info()"
   ]
  },
  {
   "cell_type": "markdown",
   "metadata": {},
   "source": [
    "Compruebo que las categorias de las columnas estan bien escritas para sino, darle uniformidad cambiando los valores"
   ]
  },
  {
   "cell_type": "code",
   "execution_count": 6,
   "metadata": {},
   "outputs": [
    {
     "name": "stdout",
     "output_type": "stream",
     "text": [
      "Valores únicos en la columna 'Loyalty Number':\n",
      "Loyalty Number\n",
      "678205    72\n",
      "989528    48\n",
      "373638    48\n",
      "684889    48\n",
      "684881    48\n",
      "          ..\n",
      "428526    24\n",
      "428536    24\n",
      "428565    24\n",
      "428590    24\n",
      "999891    24\n",
      "Name: count, Length: 16737, dtype: int64\n",
      "\n",
      "\n",
      "Valores únicos en la columna 'Year':\n",
      "Year\n",
      "2017    202812\n",
      "2018    202812\n",
      "Name: count, dtype: int64\n",
      "\n",
      "\n",
      "Valores únicos en la columna 'Month':\n",
      "Month\n",
      "1     33802\n",
      "9     33802\n",
      "2     33802\n",
      "3     33802\n",
      "11    33802\n",
      "4     33802\n",
      "5     33802\n",
      "7     33802\n",
      "6     33802\n",
      "8     33802\n",
      "10    33802\n",
      "12    33802\n",
      "Name: count, dtype: int64\n",
      "\n",
      "\n",
      "Valores únicos en la columna 'Flights Booked':\n",
      "Flights Booked\n",
      "0     197992\n",
      "3      18228\n",
      "11     15705\n",
      "5      15084\n",
      "7      14561\n",
      "8      14357\n",
      "9      14164\n",
      "6      13847\n",
      "2      13641\n",
      "10     13363\n",
      "4      12821\n",
      "1      12667\n",
      "13     10782\n",
      "12     10382\n",
      "14      7057\n",
      "15      6582\n",
      "16      4354\n",
      "17      3899\n",
      "18      2958\n",
      "19      1496\n",
      "20      1156\n",
      "21       528\n",
      "Name: count, dtype: int64\n",
      "\n",
      "\n",
      "Valores únicos en la columna 'Flights with Companions':\n",
      "Flights with Companions\n",
      "0     296887\n",
      "2      19272\n",
      "3      19015\n",
      "1      17905\n",
      "4      13665\n",
      "5      13424\n",
      "6       9911\n",
      "7       7089\n",
      "8       3965\n",
      "9       2944\n",
      "10      1071\n",
      "11       476\n",
      "Name: count, dtype: int64\n",
      "\n",
      "\n",
      "Valores únicos en la columna 'Total Flights':\n",
      "Total Flights\n",
      "0     197992\n",
      "6      15273\n",
      "10     14393\n",
      "8      14056\n",
      "4      13656\n",
      "2      13032\n",
      "12     12409\n",
      "11     12300\n",
      "9      10688\n",
      "13     10499\n",
      "14     10310\n",
      "7       9873\n",
      "3       9783\n",
      "5       9309\n",
      "15      8544\n",
      "16      7727\n",
      "17      6198\n",
      "1       6106\n",
      "18      5757\n",
      "19      4002\n",
      "20      3417\n",
      "21      2610\n",
      "22      1981\n",
      "23      1616\n",
      "24      1209\n",
      "25       900\n",
      "26       722\n",
      "27       504\n",
      "28       306\n",
      "29       214\n",
      "30       150\n",
      "31        61\n",
      "32        27\n",
      "Name: count, dtype: int64\n",
      "\n",
      "\n",
      "Valores únicos en la columna 'Distance':\n",
      "Distance\n",
      "0       197992\n",
      "2520       410\n",
      "2880       401\n",
      "1680       389\n",
      "2160       365\n",
      "         ...  \n",
      "1333         1\n",
      "3722         1\n",
      "3985         1\n",
      "4779         1\n",
      "4135         1\n",
      "Name: count, Length: 4746, dtype: int64\n",
      "\n",
      "\n",
      "Valores únicos en la columna 'Points Accumulated':\n",
      "Points Accumulated\n",
      "0.00      197992\n",
      "180.00       763\n",
      "270.00       734\n",
      "288.00       717\n",
      "189.00       709\n",
      "           ...  \n",
      "658.50         1\n",
      "556.25         1\n",
      "10.80          1\n",
      "565.50         1\n",
      "626.00         1\n",
      "Name: count, Length: 1549, dtype: int64\n",
      "\n",
      "\n",
      "Valores únicos en la columna 'Points Redeemed':\n",
      "Points Redeemed\n",
      "0      381443\n",
      "447       103\n",
      "523       100\n",
      "443        98\n",
      "516        97\n",
      "        ...  \n",
      "834         1\n",
      "858         1\n",
      "862         1\n",
      "869         1\n",
      "859         1\n",
      "Name: count, Length: 587, dtype: int64\n",
      "\n",
      "\n",
      "Valores únicos en la columna 'Dollar Cost Points Redeemed':\n",
      "Dollar Cost Points Redeemed\n",
      "0     381443\n",
      "36      1037\n",
      "38      1001\n",
      "40       993\n",
      "42       983\n",
      "39       943\n",
      "44       923\n",
      "41       913\n",
      "37       887\n",
      "43       877\n",
      "35       852\n",
      "34       844\n",
      "32       817\n",
      "33       800\n",
      "45       779\n",
      "30       772\n",
      "46       753\n",
      "31       722\n",
      "47       675\n",
      "48       638\n",
      "28       598\n",
      "29       596\n",
      "50       595\n",
      "49       568\n",
      "52       482\n",
      "51       435\n",
      "27       421\n",
      "54       402\n",
      "26       379\n",
      "53       377\n",
      "56       365\n",
      "55       343\n",
      "57       274\n",
      "58       265\n",
      "60       260\n",
      "59       219\n",
      "25       209\n",
      "61       175\n",
      "63       175\n",
      "62       155\n",
      "64       152\n",
      "24       110\n",
      "66       106\n",
      "65        90\n",
      "68        85\n",
      "67        68\n",
      "70        38\n",
      "69        28\n",
      "71         2\n",
      "Name: count, dtype: int64\n",
      "\n",
      "\n"
     ]
    }
   ],
   "source": [
    "# Para ello hacemos un bucle for iterando sobre las columnas mostrando los valores únicos y contandolos\n",
    "\n",
    "for columna in df_customer_activity.columns:\n",
    "    print(f\"Valores únicos en la columna '{columna}':\")\n",
    "    print(df_customer_activity[columna].value_counts())\n",
    "    print(\"\\n\")"
   ]
  },
  {
   "cell_type": "markdown",
   "metadata": {},
   "source": [
    "Ahora identifico los nulos del DataFrame"
   ]
  },
  {
   "cell_type": "code",
   "execution_count": 7,
   "metadata": {},
   "outputs": [
    {
     "data": {
      "text/plain": [
       "Loyalty Number                 0\n",
       "Year                           0\n",
       "Month                          0\n",
       "Flights Booked                 0\n",
       "Flights with Companions        0\n",
       "Total Flights                  0\n",
       "Distance                       0\n",
       "Points Accumulated             0\n",
       "Points Redeemed                0\n",
       "Dollar Cost Points Redeemed    0\n",
       "dtype: int64"
      ]
     },
     "execution_count": 7,
     "metadata": {},
     "output_type": "execute_result"
    }
   ],
   "source": [
    "df_customer_activity.isnull().sum()"
   ]
  },
  {
   "cell_type": "markdown",
   "metadata": {},
   "source": [
    "Miro los estadísticos descriptivos"
   ]
  },
  {
   "cell_type": "code",
   "execution_count": 8,
   "metadata": {},
   "outputs": [
    {
     "data": {
      "text/html": [
       "<div>\n",
       "<style scoped>\n",
       "    .dataframe tbody tr th:only-of-type {\n",
       "        vertical-align: middle;\n",
       "    }\n",
       "\n",
       "    .dataframe tbody tr th {\n",
       "        vertical-align: top;\n",
       "    }\n",
       "\n",
       "    .dataframe thead th {\n",
       "        text-align: right;\n",
       "    }\n",
       "</style>\n",
       "<table border=\"1\" class=\"dataframe\">\n",
       "  <thead>\n",
       "    <tr style=\"text-align: right;\">\n",
       "      <th></th>\n",
       "      <th>Loyalty Number</th>\n",
       "      <th>Year</th>\n",
       "      <th>Month</th>\n",
       "      <th>Flights Booked</th>\n",
       "      <th>Flights with Companions</th>\n",
       "      <th>Total Flights</th>\n",
       "      <th>Distance</th>\n",
       "      <th>Points Accumulated</th>\n",
       "      <th>Points Redeemed</th>\n",
       "      <th>Dollar Cost Points Redeemed</th>\n",
       "    </tr>\n",
       "  </thead>\n",
       "  <tbody>\n",
       "    <tr>\n",
       "      <th>count</th>\n",
       "      <td>405624.00</td>\n",
       "      <td>405624.0</td>\n",
       "      <td>405624.00</td>\n",
       "      <td>405624.00</td>\n",
       "      <td>405624.00</td>\n",
       "      <td>405624.00</td>\n",
       "      <td>405624.00</td>\n",
       "      <td>405624.00</td>\n",
       "      <td>405624.00</td>\n",
       "      <td>405624.00</td>\n",
       "    </tr>\n",
       "    <tr>\n",
       "      <th>mean</th>\n",
       "      <td>550037.87</td>\n",
       "      <td>2017.5</td>\n",
       "      <td>6.50</td>\n",
       "      <td>4.12</td>\n",
       "      <td>1.03</td>\n",
       "      <td>5.15</td>\n",
       "      <td>1208.88</td>\n",
       "      <td>123.69</td>\n",
       "      <td>30.70</td>\n",
       "      <td>2.48</td>\n",
       "    </tr>\n",
       "    <tr>\n",
       "      <th>std</th>\n",
       "      <td>258935.29</td>\n",
       "      <td>0.5</td>\n",
       "      <td>3.45</td>\n",
       "      <td>5.23</td>\n",
       "      <td>2.08</td>\n",
       "      <td>6.52</td>\n",
       "      <td>1433.16</td>\n",
       "      <td>146.60</td>\n",
       "      <td>125.49</td>\n",
       "      <td>10.15</td>\n",
       "    </tr>\n",
       "    <tr>\n",
       "      <th>min</th>\n",
       "      <td>100018.00</td>\n",
       "      <td>2017.0</td>\n",
       "      <td>1.00</td>\n",
       "      <td>0.00</td>\n",
       "      <td>0.00</td>\n",
       "      <td>0.00</td>\n",
       "      <td>0.00</td>\n",
       "      <td>0.00</td>\n",
       "      <td>0.00</td>\n",
       "      <td>0.00</td>\n",
       "    </tr>\n",
       "    <tr>\n",
       "      <th>25%</th>\n",
       "      <td>326961.00</td>\n",
       "      <td>2017.0</td>\n",
       "      <td>3.75</td>\n",
       "      <td>0.00</td>\n",
       "      <td>0.00</td>\n",
       "      <td>0.00</td>\n",
       "      <td>0.00</td>\n",
       "      <td>0.00</td>\n",
       "      <td>0.00</td>\n",
       "      <td>0.00</td>\n",
       "    </tr>\n",
       "    <tr>\n",
       "      <th>50%</th>\n",
       "      <td>550834.00</td>\n",
       "      <td>2017.5</td>\n",
       "      <td>6.50</td>\n",
       "      <td>1.00</td>\n",
       "      <td>0.00</td>\n",
       "      <td>1.00</td>\n",
       "      <td>488.00</td>\n",
       "      <td>50.00</td>\n",
       "      <td>0.00</td>\n",
       "      <td>0.00</td>\n",
       "    </tr>\n",
       "    <tr>\n",
       "      <th>75%</th>\n",
       "      <td>772194.00</td>\n",
       "      <td>2018.0</td>\n",
       "      <td>9.25</td>\n",
       "      <td>8.00</td>\n",
       "      <td>1.00</td>\n",
       "      <td>10.00</td>\n",
       "      <td>2336.00</td>\n",
       "      <td>239.00</td>\n",
       "      <td>0.00</td>\n",
       "      <td>0.00</td>\n",
       "    </tr>\n",
       "    <tr>\n",
       "      <th>max</th>\n",
       "      <td>999986.00</td>\n",
       "      <td>2018.0</td>\n",
       "      <td>12.00</td>\n",
       "      <td>21.00</td>\n",
       "      <td>11.00</td>\n",
       "      <td>32.00</td>\n",
       "      <td>6293.00</td>\n",
       "      <td>676.50</td>\n",
       "      <td>876.00</td>\n",
       "      <td>71.00</td>\n",
       "    </tr>\n",
       "  </tbody>\n",
       "</table>\n",
       "</div>"
      ],
      "text/plain": [
       "       Loyalty Number      Year      Month  Flights Booked  \\\n",
       "count       405624.00  405624.0  405624.00       405624.00   \n",
       "mean        550037.87    2017.5       6.50            4.12   \n",
       "std         258935.29       0.5       3.45            5.23   \n",
       "min         100018.00    2017.0       1.00            0.00   \n",
       "25%         326961.00    2017.0       3.75            0.00   \n",
       "50%         550834.00    2017.5       6.50            1.00   \n",
       "75%         772194.00    2018.0       9.25            8.00   \n",
       "max         999986.00    2018.0      12.00           21.00   \n",
       "\n",
       "       Flights with Companions  Total Flights   Distance  Points Accumulated  \\\n",
       "count                405624.00      405624.00  405624.00           405624.00   \n",
       "mean                      1.03           5.15    1208.88              123.69   \n",
       "std                       2.08           6.52    1433.16              146.60   \n",
       "min                       0.00           0.00       0.00                0.00   \n",
       "25%                       0.00           0.00       0.00                0.00   \n",
       "50%                       0.00           1.00     488.00               50.00   \n",
       "75%                       1.00          10.00    2336.00              239.00   \n",
       "max                      11.00          32.00    6293.00              676.50   \n",
       "\n",
       "       Points Redeemed  Dollar Cost Points Redeemed  \n",
       "count        405624.00                    405624.00  \n",
       "mean             30.70                         2.48  \n",
       "std             125.49                        10.15  \n",
       "min               0.00                         0.00  \n",
       "25%               0.00                         0.00  \n",
       "50%               0.00                         0.00  \n",
       "75%               0.00                         0.00  \n",
       "max             876.00                        71.00  "
      ]
     },
     "execution_count": 8,
     "metadata": {},
     "output_type": "execute_result"
    }
   ],
   "source": [
    "df_customer_activity.describe().round(2)"
   ]
  },
  {
   "cell_type": "markdown",
   "metadata": {},
   "source": [
    "### 1.1.2. Exploracion CSV Customer Loyalty History"
   ]
  },
  {
   "cell_type": "code",
   "execution_count": 9,
   "metadata": {},
   "outputs": [
    {
     "data": {
      "text/html": [
       "<div>\n",
       "<style scoped>\n",
       "    .dataframe tbody tr th:only-of-type {\n",
       "        vertical-align: middle;\n",
       "    }\n",
       "\n",
       "    .dataframe tbody tr th {\n",
       "        vertical-align: top;\n",
       "    }\n",
       "\n",
       "    .dataframe thead th {\n",
       "        text-align: right;\n",
       "    }\n",
       "</style>\n",
       "<table border=\"1\" class=\"dataframe\">\n",
       "  <thead>\n",
       "    <tr style=\"text-align: right;\">\n",
       "      <th></th>\n",
       "      <th>Loyalty Number</th>\n",
       "      <th>Country</th>\n",
       "      <th>Province</th>\n",
       "      <th>City</th>\n",
       "      <th>Postal Code</th>\n",
       "      <th>Gender</th>\n",
       "      <th>Education</th>\n",
       "      <th>Salary</th>\n",
       "      <th>Marital Status</th>\n",
       "      <th>Loyalty Card</th>\n",
       "      <th>CLV</th>\n",
       "      <th>Enrollment Type</th>\n",
       "      <th>Enrollment Year</th>\n",
       "      <th>Enrollment Month</th>\n",
       "      <th>Cancellation Year</th>\n",
       "      <th>Cancellation Month</th>\n",
       "    </tr>\n",
       "  </thead>\n",
       "  <tbody>\n",
       "    <tr>\n",
       "      <th>0</th>\n",
       "      <td>480934</td>\n",
       "      <td>Canada</td>\n",
       "      <td>Ontario</td>\n",
       "      <td>Toronto</td>\n",
       "      <td>M2Z 4K1</td>\n",
       "      <td>Female</td>\n",
       "      <td>Bachelor</td>\n",
       "      <td>83236.0</td>\n",
       "      <td>Married</td>\n",
       "      <td>Star</td>\n",
       "      <td>3839.14</td>\n",
       "      <td>Standard</td>\n",
       "      <td>2016</td>\n",
       "      <td>2</td>\n",
       "      <td>NaN</td>\n",
       "      <td>NaN</td>\n",
       "    </tr>\n",
       "    <tr>\n",
       "      <th>1</th>\n",
       "      <td>549612</td>\n",
       "      <td>Canada</td>\n",
       "      <td>Alberta</td>\n",
       "      <td>Edmonton</td>\n",
       "      <td>T3G 6Y6</td>\n",
       "      <td>Male</td>\n",
       "      <td>College</td>\n",
       "      <td>NaN</td>\n",
       "      <td>Divorced</td>\n",
       "      <td>Star</td>\n",
       "      <td>3839.61</td>\n",
       "      <td>Standard</td>\n",
       "      <td>2016</td>\n",
       "      <td>3</td>\n",
       "      <td>NaN</td>\n",
       "      <td>NaN</td>\n",
       "    </tr>\n",
       "    <tr>\n",
       "      <th>2</th>\n",
       "      <td>429460</td>\n",
       "      <td>Canada</td>\n",
       "      <td>British Columbia</td>\n",
       "      <td>Vancouver</td>\n",
       "      <td>V6E 3D9</td>\n",
       "      <td>Male</td>\n",
       "      <td>College</td>\n",
       "      <td>NaN</td>\n",
       "      <td>Single</td>\n",
       "      <td>Star</td>\n",
       "      <td>3839.75</td>\n",
       "      <td>Standard</td>\n",
       "      <td>2014</td>\n",
       "      <td>7</td>\n",
       "      <td>2018.0</td>\n",
       "      <td>1.0</td>\n",
       "    </tr>\n",
       "    <tr>\n",
       "      <th>3</th>\n",
       "      <td>608370</td>\n",
       "      <td>Canada</td>\n",
       "      <td>Ontario</td>\n",
       "      <td>Toronto</td>\n",
       "      <td>P1W 1K4</td>\n",
       "      <td>Male</td>\n",
       "      <td>College</td>\n",
       "      <td>NaN</td>\n",
       "      <td>Single</td>\n",
       "      <td>Star</td>\n",
       "      <td>3839.75</td>\n",
       "      <td>Standard</td>\n",
       "      <td>2013</td>\n",
       "      <td>2</td>\n",
       "      <td>NaN</td>\n",
       "      <td>NaN</td>\n",
       "    </tr>\n",
       "    <tr>\n",
       "      <th>4</th>\n",
       "      <td>530508</td>\n",
       "      <td>Canada</td>\n",
       "      <td>Quebec</td>\n",
       "      <td>Hull</td>\n",
       "      <td>J8Y 3Z5</td>\n",
       "      <td>Male</td>\n",
       "      <td>Bachelor</td>\n",
       "      <td>103495.0</td>\n",
       "      <td>Married</td>\n",
       "      <td>Star</td>\n",
       "      <td>3842.79</td>\n",
       "      <td>Standard</td>\n",
       "      <td>2014</td>\n",
       "      <td>10</td>\n",
       "      <td>NaN</td>\n",
       "      <td>NaN</td>\n",
       "    </tr>\n",
       "  </tbody>\n",
       "</table>\n",
       "</div>"
      ],
      "text/plain": [
       "   Loyalty Number Country          Province       City Postal Code  Gender  \\\n",
       "0          480934  Canada           Ontario    Toronto     M2Z 4K1  Female   \n",
       "1          549612  Canada           Alberta   Edmonton     T3G 6Y6    Male   \n",
       "2          429460  Canada  British Columbia  Vancouver     V6E 3D9    Male   \n",
       "3          608370  Canada           Ontario    Toronto     P1W 1K4    Male   \n",
       "4          530508  Canada            Quebec       Hull     J8Y 3Z5    Male   \n",
       "\n",
       "  Education    Salary Marital Status Loyalty Card      CLV Enrollment Type  \\\n",
       "0  Bachelor   83236.0        Married         Star  3839.14        Standard   \n",
       "1   College       NaN       Divorced         Star  3839.61        Standard   \n",
       "2   College       NaN         Single         Star  3839.75        Standard   \n",
       "3   College       NaN         Single         Star  3839.75        Standard   \n",
       "4  Bachelor  103495.0        Married         Star  3842.79        Standard   \n",
       "\n",
       "   Enrollment Year  Enrollment Month  Cancellation Year  Cancellation Month  \n",
       "0             2016                 2                NaN                 NaN  \n",
       "1             2016                 3                NaN                 NaN  \n",
       "2             2014                 7             2018.0                 1.0  \n",
       "3             2013                 2                NaN                 NaN  \n",
       "4             2014                10                NaN                 NaN  "
      ]
     },
     "execution_count": 9,
     "metadata": {},
     "output_type": "execute_result"
    }
   ],
   "source": [
    "df_customer_history.head()"
   ]
  },
  {
   "cell_type": "code",
   "execution_count": 10,
   "metadata": {},
   "outputs": [
    {
     "name": "stdout",
     "output_type": "stream",
     "text": [
      "El DataFrame Customer Loyalty History tiene 16737 filas y 16 columnas.\n"
     ]
    }
   ],
   "source": [
    "print(f\"El DataFrame Customer Loyalty History tiene {df_customer_history.shape[0]} filas y {df_customer_history.shape[1]} columnas.\")"
   ]
  },
  {
   "cell_type": "code",
   "execution_count": 11,
   "metadata": {},
   "outputs": [
    {
     "name": "stdout",
     "output_type": "stream",
     "text": [
      "<class 'pandas.core.frame.DataFrame'>\n",
      "RangeIndex: 16737 entries, 0 to 16736\n",
      "Data columns (total 16 columns):\n",
      " #   Column              Non-Null Count  Dtype  \n",
      "---  ------              --------------  -----  \n",
      " 0   Loyalty Number      16737 non-null  int64  \n",
      " 1   Country             16737 non-null  object \n",
      " 2   Province            16737 non-null  object \n",
      " 3   City                16737 non-null  object \n",
      " 4   Postal Code         16737 non-null  object \n",
      " 5   Gender              16737 non-null  object \n",
      " 6   Education           16737 non-null  object \n",
      " 7   Salary              12499 non-null  float64\n",
      " 8   Marital Status      16737 non-null  object \n",
      " 9   Loyalty Card        16737 non-null  object \n",
      " 10  CLV                 16737 non-null  float64\n",
      " 11  Enrollment Type     16737 non-null  object \n",
      " 12  Enrollment Year     16737 non-null  int64  \n",
      " 13  Enrollment Month    16737 non-null  int64  \n",
      " 14  Cancellation Year   2067 non-null   float64\n",
      " 15  Cancellation Month  2067 non-null   float64\n",
      "dtypes: float64(4), int64(3), object(9)\n",
      "memory usage: 2.0+ MB\n"
     ]
    }
   ],
   "source": [
    "df_customer_history.info()"
   ]
  },
  {
   "cell_type": "markdown",
   "metadata": {},
   "source": [
    "Miro que las columnas tengan sus valores bien escritos y de forma uniforme para sino,limpiar los datos, además aprovecho para saber la cantidad de valores de cada categoria"
   ]
  },
  {
   "cell_type": "code",
   "execution_count": 12,
   "metadata": {},
   "outputs": [
    {
     "name": "stdout",
     "output_type": "stream",
     "text": [
      "Valores únicos en la columna 'Loyalty Number':\n",
      "Loyalty Number\n",
      "480934    1\n",
      "208485    1\n",
      "455896    1\n",
      "469781    1\n",
      "533488    1\n",
      "         ..\n",
      "922188    1\n",
      "780529    1\n",
      "721438    1\n",
      "761015    1\n",
      "652627    1\n",
      "Name: count, Length: 16737, dtype: int64\n",
      "\n",
      "\n",
      "Valores únicos en la columna 'Country':\n",
      "Country\n",
      "Canada    16737\n",
      "Name: count, dtype: int64\n",
      "\n",
      "\n",
      "Valores únicos en la columna 'Province':\n",
      "Province\n",
      "Ontario                 5404\n",
      "British Columbia        4409\n",
      "Quebec                  3300\n",
      "Alberta                  969\n",
      "Manitoba                 658\n",
      "New Brunswick            636\n",
      "Nova Scotia              518\n",
      "Saskatchewan             409\n",
      "Newfoundland             258\n",
      "Yukon                    110\n",
      "Prince Edward Island      66\n",
      "Name: count, dtype: int64\n",
      "\n",
      "\n",
      "Valores únicos en la columna 'City':\n",
      "City\n",
      "Toronto           3351\n",
      "Vancouver         2582\n",
      "Montreal          2059\n",
      "Winnipeg           658\n",
      "Whistler           582\n",
      "Halifax            518\n",
      "Ottawa             509\n",
      "Trenton            486\n",
      "Edmonton           486\n",
      "Quebec City        485\n",
      "Dawson Creek       444\n",
      "Fredericton        425\n",
      "Regina             409\n",
      "Kingston           401\n",
      "Tremblant          398\n",
      "Victoria           389\n",
      "Hull               358\n",
      "West Vancouver     324\n",
      "St. John's         258\n",
      "Thunder Bay        256\n",
      "Sudbury            227\n",
      "Moncton            211\n",
      "Calgary            191\n",
      "Banff              179\n",
      "London             174\n",
      "Peace River        113\n",
      "Whitehorse         110\n",
      "Kelowna             88\n",
      "Charlottetown       66\n",
      "Name: count, dtype: int64\n",
      "\n",
      "\n",
      "Valores únicos en la columna 'Postal Code':\n",
      "Postal Code\n",
      "V6E 3D9    911\n",
      "V5R 1W3    684\n",
      "V6T 1Y8    582\n",
      "V6E 3Z3    544\n",
      "M2M 7K8    534\n",
      "P1J 8T7    500\n",
      "H2T 9K8    499\n",
      "K8V 4B2    486\n",
      "G1B 3L5    485\n",
      "H2T 2J6    446\n",
      "U5I 4F1    444\n",
      "V1E 4R6    443\n",
      "E3B 2H2    425\n",
      "R2C 0M5    415\n",
      "M9K 2P4    401\n",
      "H5Y 2S9    398\n",
      "V10 6T5    389\n",
      "K1F 2R2    389\n",
      "H2Y 2W2    365\n",
      "J8Y 3Z5    358\n",
      "M8Y 4K8    340\n",
      "H4G 3T4    338\n",
      "B3J 9S2    329\n",
      "V6V 8Z3    324\n",
      "P2T 6G3    322\n",
      "H2Y 4R4    315\n",
      "M1R 4K3    313\n",
      "P1L 8X8    282\n",
      "P1W 1K4    275\n",
      "T9G 1W3    266\n",
      "A1C 6H9    258\n",
      "M2Z 4K1    257\n",
      "K8T 5M5    256\n",
      "P5S 6R4    246\n",
      "M5V 1G5    227\n",
      "S6J 3G0    226\n",
      "T3G 6Y6    220\n",
      "E1A 2A7    211\n",
      "T3E 2V9    191\n",
      "B3C 2M8    189\n",
      "S1J 3C5    183\n",
      "T4V 1D4    179\n",
      "M5B 3E4    174\n",
      "M2M 6J7    153\n",
      "R6Y 4T5    143\n",
      "M2P 4F6    126\n",
      "K1G 4Z0    120\n",
      "T9O 2W2    113\n",
      "Y2K 6R0    110\n",
      "R3R 3T4    100\n",
      "H3T 8L4     89\n",
      "V09 2E9     88\n",
      "C1A 6E8     66\n",
      "H3J 5I6      7\n",
      "M3R 4K8      3\n",
      "Name: count, dtype: int64\n",
      "\n",
      "\n",
      "Valores únicos en la columna 'Gender':\n",
      "Gender\n",
      "Female    8410\n",
      "Male      8327\n",
      "Name: count, dtype: int64\n",
      "\n",
      "\n",
      "Valores únicos en la columna 'Education':\n",
      "Education\n",
      "Bachelor                10475\n",
      "College                  4238\n",
      "High School or Below      782\n",
      "Doctor                    734\n",
      "Master                    508\n",
      "Name: count, dtype: int64\n",
      "\n",
      "\n",
      "Valores únicos en la columna 'Salary':\n",
      "Salary\n",
      " 101933.0    23\n",
      " 62283.0     14\n",
      " 61809.0     14\n",
      " 51573.0     14\n",
      " 64001.0     13\n",
      "             ..\n",
      " 95907.0      1\n",
      " 72440.0      1\n",
      " 88633.0      1\n",
      " 100572.0     1\n",
      "-57297.0      1\n",
      "Name: count, Length: 5890, dtype: int64\n",
      "\n",
      "\n",
      "Valores únicos en la columna 'Marital Status':\n",
      "Marital Status\n",
      "Married     9735\n",
      "Single      4484\n",
      "Divorced    2518\n",
      "Name: count, dtype: int64\n",
      "\n",
      "\n",
      "Valores únicos en la columna 'Loyalty Card':\n",
      "Loyalty Card\n",
      "Star      7637\n",
      "Nova      5671\n",
      "Aurora    3429\n",
      "Name: count, dtype: int64\n",
      "\n",
      "\n",
      "Valores únicos en la columna 'CLV':\n",
      "CLV\n",
      "8564.77     13\n",
      "13024.13    12\n",
      "3808.12     12\n",
      "2359.42     12\n",
      "3731.50     12\n",
      "            ..\n",
      "16152.90     1\n",
      "5204.65      1\n",
      "5620.59      1\n",
      "5205.02      1\n",
      "61134.68     1\n",
      "Name: count, Length: 7984, dtype: int64\n",
      "\n",
      "\n",
      "Valores únicos en la columna 'Enrollment Type':\n",
      "Enrollment Type\n",
      "Standard          15766\n",
      "2018 Promotion      971\n",
      "Name: count, dtype: int64\n",
      "\n",
      "\n",
      "Valores únicos en la columna 'Enrollment Year':\n",
      "Enrollment Year\n",
      "2018    3010\n",
      "2017    2487\n",
      "2016    2456\n",
      "2013    2397\n",
      "2014    2370\n",
      "2015    2331\n",
      "2012    1686\n",
      "Name: count, dtype: int64\n",
      "\n",
      "\n",
      "Valores únicos en la columna 'Enrollment Month':\n",
      "Enrollment Month\n",
      "5     1503\n",
      "12    1480\n",
      "7     1473\n",
      "11    1446\n",
      "10    1444\n",
      "8     1430\n",
      "6     1412\n",
      "9     1391\n",
      "4     1388\n",
      "3     1358\n",
      "2     1220\n",
      "1     1192\n",
      "Name: count, dtype: int64\n",
      "\n",
      "\n",
      "Valores únicos en la columna 'Cancellation Year':\n",
      "Cancellation Year\n",
      "2018.0    645\n",
      "2017.0    506\n",
      "2016.0    427\n",
      "2015.0    265\n",
      "2014.0    181\n",
      "2013.0     43\n",
      "Name: count, dtype: int64\n",
      "\n",
      "\n",
      "Valores únicos en la columna 'Cancellation Month':\n",
      "Cancellation Month\n",
      "12.0    213\n",
      "11.0    212\n",
      "8.0     208\n",
      "7.0     186\n",
      "10.0    180\n",
      "9.0     176\n",
      "6.0     165\n",
      "1.0     155\n",
      "3.0     149\n",
      "5.0     148\n",
      "2.0     139\n",
      "4.0     136\n",
      "Name: count, dtype: int64\n",
      "\n",
      "\n"
     ]
    }
   ],
   "source": [
    "# Para ello hacemos un bucle for iterando sobre las columnas de tipo object y mostrando los valores únicos y contandolos\n",
    "for columna in df_customer_history.columns:\n",
    "    print(f\"Valores únicos en la columna '{columna}':\")\n",
    "    print(df_customer_history[columna].value_counts())\n",
    "    print(\"\\n\")"
   ]
  },
  {
   "cell_type": "markdown",
   "metadata": {},
   "source": [
    "Aqui se puede ver que  hay datos de cancelación del programa de puntos desde 2013. Esto puede dar problemas a la hora de comparar y unir datos con del DataFrame anterior  ya que los datos de estos vuelos son de los años 2017 y 2018."
   ]
  },
  {
   "cell_type": "markdown",
   "metadata": {},
   "source": [
    "Identificamos los nulos del dataframe"
   ]
  },
  {
   "cell_type": "code",
   "execution_count": 13,
   "metadata": {},
   "outputs": [
    {
     "data": {
      "text/plain": [
       "Loyalty Number            0\n",
       "Country                   0\n",
       "Province                  0\n",
       "City                      0\n",
       "Postal Code               0\n",
       "Gender                    0\n",
       "Education                 0\n",
       "Salary                 4238\n",
       "Marital Status            0\n",
       "Loyalty Card              0\n",
       "CLV                       0\n",
       "Enrollment Type           0\n",
       "Enrollment Year           0\n",
       "Enrollment Month          0\n",
       "Cancellation Year     14670\n",
       "Cancellation Month    14670\n",
       "dtype: int64"
      ]
     },
     "execution_count": 13,
     "metadata": {},
     "output_type": "execute_result"
    }
   ],
   "source": [
    "df_customer_history.isnull().sum()"
   ]
  },
  {
   "cell_type": "markdown",
   "metadata": {},
   "source": [
    "Vamos a mirar el porcentaje de valores nulos de las columnas especificas"
   ]
  },
  {
   "cell_type": "code",
   "execution_count": 14,
   "metadata": {},
   "outputs": [
    {
     "data": {
      "text/plain": [
       "Salary                25.321145\n",
       "Cancellation Year     87.650117\n",
       "Cancellation Month    87.650117\n",
       "dtype: float64"
      ]
     },
     "execution_count": 14,
     "metadata": {},
     "output_type": "execute_result"
    }
   ],
   "source": [
    "(df_customer_history[[\"Salary\",\"Cancellation Year\",\"Cancellation Month\"]].isnull().sum())/(df_customer_history.shape[0])*100"
   ]
  },
  {
   "cell_type": "markdown",
   "metadata": {},
   "source": [
    "En el apartado de limpieza de datos tendremos que ver qué haremos con estos nulos, que tienen un porcentaje bastante significativo. Sin embargo, tampoco estos son extraños pues las columnas de Cancellation Year y Cancellation Month tienen el mismo número de nulos y estos indican que el cliente no ha cancelado su programa de puntos.  \n",
    "Con respecto a la columna Salary, también es un porcentaje bastante alto, representando un cuarto de la población que no tenemos su salario. Esto es bastante usual con este tipo de datos dado que la gente es bastante reacia a dar su salario.\n"
   ]
  },
  {
   "cell_type": "markdown",
   "metadata": {},
   "source": [
    "Vemos los estadisticos descriptivos del dataframe"
   ]
  },
  {
   "cell_type": "code",
   "execution_count": 15,
   "metadata": {},
   "outputs": [
    {
     "data": {
      "text/html": [
       "<div>\n",
       "<style scoped>\n",
       "    .dataframe tbody tr th:only-of-type {\n",
       "        vertical-align: middle;\n",
       "    }\n",
       "\n",
       "    .dataframe tbody tr th {\n",
       "        vertical-align: top;\n",
       "    }\n",
       "\n",
       "    .dataframe thead th {\n",
       "        text-align: right;\n",
       "    }\n",
       "</style>\n",
       "<table border=\"1\" class=\"dataframe\">\n",
       "  <thead>\n",
       "    <tr style=\"text-align: right;\">\n",
       "      <th></th>\n",
       "      <th>Loyalty Number</th>\n",
       "      <th>Salary</th>\n",
       "      <th>CLV</th>\n",
       "      <th>Enrollment Year</th>\n",
       "      <th>Enrollment Month</th>\n",
       "      <th>Cancellation Year</th>\n",
       "      <th>Cancellation Month</th>\n",
       "    </tr>\n",
       "  </thead>\n",
       "  <tbody>\n",
       "    <tr>\n",
       "      <th>count</th>\n",
       "      <td>16737.00</td>\n",
       "      <td>12499.00</td>\n",
       "      <td>16737.00</td>\n",
       "      <td>16737.00</td>\n",
       "      <td>16737.00</td>\n",
       "      <td>2067.00</td>\n",
       "      <td>2067.00</td>\n",
       "    </tr>\n",
       "    <tr>\n",
       "      <th>mean</th>\n",
       "      <td>549735.88</td>\n",
       "      <td>79245.61</td>\n",
       "      <td>7988.90</td>\n",
       "      <td>2015.25</td>\n",
       "      <td>6.67</td>\n",
       "      <td>2016.50</td>\n",
       "      <td>6.96</td>\n",
       "    </tr>\n",
       "    <tr>\n",
       "      <th>std</th>\n",
       "      <td>258912.13</td>\n",
       "      <td>35008.30</td>\n",
       "      <td>6860.98</td>\n",
       "      <td>1.98</td>\n",
       "      <td>3.40</td>\n",
       "      <td>1.38</td>\n",
       "      <td>3.46</td>\n",
       "    </tr>\n",
       "    <tr>\n",
       "      <th>min</th>\n",
       "      <td>100018.00</td>\n",
       "      <td>-58486.00</td>\n",
       "      <td>1898.01</td>\n",
       "      <td>2012.00</td>\n",
       "      <td>1.00</td>\n",
       "      <td>2013.00</td>\n",
       "      <td>1.00</td>\n",
       "    </tr>\n",
       "    <tr>\n",
       "      <th>25%</th>\n",
       "      <td>326603.00</td>\n",
       "      <td>59246.50</td>\n",
       "      <td>3980.84</td>\n",
       "      <td>2014.00</td>\n",
       "      <td>4.00</td>\n",
       "      <td>2016.00</td>\n",
       "      <td>4.00</td>\n",
       "    </tr>\n",
       "    <tr>\n",
       "      <th>50%</th>\n",
       "      <td>550434.00</td>\n",
       "      <td>73455.00</td>\n",
       "      <td>5780.18</td>\n",
       "      <td>2015.00</td>\n",
       "      <td>7.00</td>\n",
       "      <td>2017.00</td>\n",
       "      <td>7.00</td>\n",
       "    </tr>\n",
       "    <tr>\n",
       "      <th>75%</th>\n",
       "      <td>772019.00</td>\n",
       "      <td>88517.50</td>\n",
       "      <td>8940.58</td>\n",
       "      <td>2017.00</td>\n",
       "      <td>10.00</td>\n",
       "      <td>2018.00</td>\n",
       "      <td>10.00</td>\n",
       "    </tr>\n",
       "    <tr>\n",
       "      <th>max</th>\n",
       "      <td>999986.00</td>\n",
       "      <td>407228.00</td>\n",
       "      <td>83325.38</td>\n",
       "      <td>2018.00</td>\n",
       "      <td>12.00</td>\n",
       "      <td>2018.00</td>\n",
       "      <td>12.00</td>\n",
       "    </tr>\n",
       "  </tbody>\n",
       "</table>\n",
       "</div>"
      ],
      "text/plain": [
       "       Loyalty Number     Salary       CLV  Enrollment Year  Enrollment Month  \\\n",
       "count        16737.00   12499.00  16737.00         16737.00          16737.00   \n",
       "mean        549735.88   79245.61   7988.90          2015.25              6.67   \n",
       "std         258912.13   35008.30   6860.98             1.98              3.40   \n",
       "min         100018.00  -58486.00   1898.01          2012.00              1.00   \n",
       "25%         326603.00   59246.50   3980.84          2014.00              4.00   \n",
       "50%         550434.00   73455.00   5780.18          2015.00              7.00   \n",
       "75%         772019.00   88517.50   8940.58          2017.00             10.00   \n",
       "max         999986.00  407228.00  83325.38          2018.00             12.00   \n",
       "\n",
       "       Cancellation Year  Cancellation Month  \n",
       "count            2067.00             2067.00  \n",
       "mean             2016.50                6.96  \n",
       "std                 1.38                3.46  \n",
       "min              2013.00                1.00  \n",
       "25%              2016.00                4.00  \n",
       "50%              2017.00                7.00  \n",
       "75%              2018.00               10.00  \n",
       "max              2018.00               12.00  "
      ]
     },
     "execution_count": 15,
     "metadata": {},
     "output_type": "execute_result"
    }
   ],
   "source": [
    "df_customer_history.describe().round(2)"
   ]
  },
  {
   "cell_type": "markdown",
   "metadata": {},
   "source": [
    "En este bloque vemos que en la columna Salary hay datos negativos, lo cual no tiene sentido ya que una persona no puede tener un salario negativo.  \n",
    "También se ve que el año de cancelación empieza en 2013 y el anterior DataFrame de vuelos incluye solo vuelos de 2017 y 2018 por lo que ya vemos que puede no corresponderse a clientes que esten activos."
   ]
  },
  {
   "cell_type": "markdown",
   "metadata": {},
   "source": [
    "Ahora vamos a comprobar que no hay valores repetidos en ninguno de los dos DataFrames a través del Loyalty Number para poder hacer la unión correctamente"
   ]
  },
  {
   "cell_type": "code",
   "execution_count": 16,
   "metadata": {},
   "outputs": [],
   "source": [
    "id_history_unique = set(df_customer_history[\"Loyalty Number\"].unique())"
   ]
  },
  {
   "cell_type": "code",
   "execution_count": 17,
   "metadata": {},
   "outputs": [],
   "source": [
    "id_activity_unique = set(df_customer_activity[\"Loyalty Number\"].unique())"
   ]
  },
  {
   "cell_type": "code",
   "execution_count": 18,
   "metadata": {},
   "outputs": [
    {
     "data": {
      "text/plain": [
       "16737"
      ]
     },
     "execution_count": 18,
     "metadata": {},
     "output_type": "execute_result"
    }
   ],
   "source": [
    "len(id_activity_unique)"
   ]
  },
  {
   "cell_type": "code",
   "execution_count": 19,
   "metadata": {},
   "outputs": [
    {
     "data": {
      "text/plain": [
       "16737"
      ]
     },
     "execution_count": 19,
     "metadata": {},
     "output_type": "execute_result"
    }
   ],
   "source": [
    "len(id_history_unique)"
   ]
  },
  {
   "cell_type": "code",
   "execution_count": 20,
   "metadata": {},
   "outputs": [
    {
     "data": {
      "text/plain": [
       "set()"
      ]
     },
     "execution_count": 20,
     "metadata": {},
     "output_type": "execute_result"
    }
   ],
   "source": [
    "id_history_unique ^ id_activity_unique"
   ]
  },
  {
   "cell_type": "markdown",
   "metadata": {},
   "source": [
    "Al no haber valores distintos entre los dos conjuntos de datos procedemos a hacer el merge, asi vemos que no vamos a desechar datos al unirlos.  \n",
    "Realizamos la union y hacemos una breve exploraciond de los datos"
   ]
  },
  {
   "cell_type": "code",
   "execution_count": 21,
   "metadata": {},
   "outputs": [],
   "source": [
    "df = pd.merge(df_customer_activity, df_customer_history, on='Loyalty Number')"
   ]
  },
  {
   "cell_type": "code",
   "execution_count": 22,
   "metadata": {},
   "outputs": [
    {
     "data": {
      "text/html": [
       "<div>\n",
       "<style scoped>\n",
       "    .dataframe tbody tr th:only-of-type {\n",
       "        vertical-align: middle;\n",
       "    }\n",
       "\n",
       "    .dataframe tbody tr th {\n",
       "        vertical-align: top;\n",
       "    }\n",
       "\n",
       "    .dataframe thead th {\n",
       "        text-align: right;\n",
       "    }\n",
       "</style>\n",
       "<table border=\"1\" class=\"dataframe\">\n",
       "  <thead>\n",
       "    <tr style=\"text-align: right;\">\n",
       "      <th></th>\n",
       "      <th>Loyalty Number</th>\n",
       "      <th>Year</th>\n",
       "      <th>Month</th>\n",
       "      <th>Flights Booked</th>\n",
       "      <th>Flights with Companions</th>\n",
       "      <th>Total Flights</th>\n",
       "      <th>Distance</th>\n",
       "      <th>Points Accumulated</th>\n",
       "      <th>Points Redeemed</th>\n",
       "      <th>Dollar Cost Points Redeemed</th>\n",
       "      <th>Country</th>\n",
       "      <th>Province</th>\n",
       "      <th>City</th>\n",
       "      <th>Postal Code</th>\n",
       "      <th>Gender</th>\n",
       "      <th>Education</th>\n",
       "      <th>Salary</th>\n",
       "      <th>Marital Status</th>\n",
       "      <th>Loyalty Card</th>\n",
       "      <th>CLV</th>\n",
       "      <th>Enrollment Type</th>\n",
       "      <th>Enrollment Year</th>\n",
       "      <th>Enrollment Month</th>\n",
       "      <th>Cancellation Year</th>\n",
       "      <th>Cancellation Month</th>\n",
       "    </tr>\n",
       "  </thead>\n",
       "  <tbody>\n",
       "    <tr>\n",
       "      <th>0</th>\n",
       "      <td>100018</td>\n",
       "      <td>2017</td>\n",
       "      <td>1</td>\n",
       "      <td>3</td>\n",
       "      <td>0</td>\n",
       "      <td>3</td>\n",
       "      <td>1521</td>\n",
       "      <td>152.0</td>\n",
       "      <td>0</td>\n",
       "      <td>0</td>\n",
       "      <td>Canada</td>\n",
       "      <td>Alberta</td>\n",
       "      <td>Edmonton</td>\n",
       "      <td>T9G 1W3</td>\n",
       "      <td>Female</td>\n",
       "      <td>Bachelor</td>\n",
       "      <td>92552.0</td>\n",
       "      <td>Married</td>\n",
       "      <td>Aurora</td>\n",
       "      <td>7919.20</td>\n",
       "      <td>Standard</td>\n",
       "      <td>2016</td>\n",
       "      <td>8</td>\n",
       "      <td>NaN</td>\n",
       "      <td>NaN</td>\n",
       "    </tr>\n",
       "    <tr>\n",
       "      <th>1</th>\n",
       "      <td>100102</td>\n",
       "      <td>2017</td>\n",
       "      <td>1</td>\n",
       "      <td>10</td>\n",
       "      <td>4</td>\n",
       "      <td>14</td>\n",
       "      <td>2030</td>\n",
       "      <td>203.0</td>\n",
       "      <td>0</td>\n",
       "      <td>0</td>\n",
       "      <td>Canada</td>\n",
       "      <td>Ontario</td>\n",
       "      <td>Toronto</td>\n",
       "      <td>M1R 4K3</td>\n",
       "      <td>Male</td>\n",
       "      <td>College</td>\n",
       "      <td>NaN</td>\n",
       "      <td>Single</td>\n",
       "      <td>Nova</td>\n",
       "      <td>2887.74</td>\n",
       "      <td>Standard</td>\n",
       "      <td>2013</td>\n",
       "      <td>3</td>\n",
       "      <td>NaN</td>\n",
       "      <td>NaN</td>\n",
       "    </tr>\n",
       "    <tr>\n",
       "      <th>2</th>\n",
       "      <td>100140</td>\n",
       "      <td>2017</td>\n",
       "      <td>1</td>\n",
       "      <td>6</td>\n",
       "      <td>0</td>\n",
       "      <td>6</td>\n",
       "      <td>1200</td>\n",
       "      <td>120.0</td>\n",
       "      <td>0</td>\n",
       "      <td>0</td>\n",
       "      <td>Canada</td>\n",
       "      <td>British Columbia</td>\n",
       "      <td>Dawson Creek</td>\n",
       "      <td>U5I 4F1</td>\n",
       "      <td>Female</td>\n",
       "      <td>College</td>\n",
       "      <td>NaN</td>\n",
       "      <td>Divorced</td>\n",
       "      <td>Nova</td>\n",
       "      <td>2838.07</td>\n",
       "      <td>Standard</td>\n",
       "      <td>2016</td>\n",
       "      <td>7</td>\n",
       "      <td>NaN</td>\n",
       "      <td>NaN</td>\n",
       "    </tr>\n",
       "    <tr>\n",
       "      <th>3</th>\n",
       "      <td>100214</td>\n",
       "      <td>2017</td>\n",
       "      <td>1</td>\n",
       "      <td>0</td>\n",
       "      <td>0</td>\n",
       "      <td>0</td>\n",
       "      <td>0</td>\n",
       "      <td>0.0</td>\n",
       "      <td>0</td>\n",
       "      <td>0</td>\n",
       "      <td>Canada</td>\n",
       "      <td>British Columbia</td>\n",
       "      <td>Vancouver</td>\n",
       "      <td>V5R 1W3</td>\n",
       "      <td>Male</td>\n",
       "      <td>Bachelor</td>\n",
       "      <td>63253.0</td>\n",
       "      <td>Married</td>\n",
       "      <td>Star</td>\n",
       "      <td>4170.57</td>\n",
       "      <td>Standard</td>\n",
       "      <td>2015</td>\n",
       "      <td>8</td>\n",
       "      <td>NaN</td>\n",
       "      <td>NaN</td>\n",
       "    </tr>\n",
       "    <tr>\n",
       "      <th>4</th>\n",
       "      <td>100272</td>\n",
       "      <td>2017</td>\n",
       "      <td>1</td>\n",
       "      <td>0</td>\n",
       "      <td>0</td>\n",
       "      <td>0</td>\n",
       "      <td>0</td>\n",
       "      <td>0.0</td>\n",
       "      <td>0</td>\n",
       "      <td>0</td>\n",
       "      <td>Canada</td>\n",
       "      <td>Ontario</td>\n",
       "      <td>Toronto</td>\n",
       "      <td>P1L 8X8</td>\n",
       "      <td>Female</td>\n",
       "      <td>Bachelor</td>\n",
       "      <td>91163.0</td>\n",
       "      <td>Divorced</td>\n",
       "      <td>Star</td>\n",
       "      <td>6622.05</td>\n",
       "      <td>Standard</td>\n",
       "      <td>2014</td>\n",
       "      <td>1</td>\n",
       "      <td>NaN</td>\n",
       "      <td>NaN</td>\n",
       "    </tr>\n",
       "  </tbody>\n",
       "</table>\n",
       "</div>"
      ],
      "text/plain": [
       "   Loyalty Number  Year  Month  Flights Booked  Flights with Companions  \\\n",
       "0          100018  2017      1               3                        0   \n",
       "1          100102  2017      1              10                        4   \n",
       "2          100140  2017      1               6                        0   \n",
       "3          100214  2017      1               0                        0   \n",
       "4          100272  2017      1               0                        0   \n",
       "\n",
       "   Total Flights  Distance  Points Accumulated  Points Redeemed  \\\n",
       "0              3      1521               152.0                0   \n",
       "1             14      2030               203.0                0   \n",
       "2              6      1200               120.0                0   \n",
       "3              0         0                 0.0                0   \n",
       "4              0         0                 0.0                0   \n",
       "\n",
       "   Dollar Cost Points Redeemed Country          Province          City  \\\n",
       "0                            0  Canada           Alberta      Edmonton   \n",
       "1                            0  Canada           Ontario       Toronto   \n",
       "2                            0  Canada  British Columbia  Dawson Creek   \n",
       "3                            0  Canada  British Columbia     Vancouver   \n",
       "4                            0  Canada           Ontario       Toronto   \n",
       "\n",
       "  Postal Code  Gender Education   Salary Marital Status Loyalty Card      CLV  \\\n",
       "0     T9G 1W3  Female  Bachelor  92552.0        Married       Aurora  7919.20   \n",
       "1     M1R 4K3    Male   College      NaN         Single         Nova  2887.74   \n",
       "2     U5I 4F1  Female   College      NaN       Divorced         Nova  2838.07   \n",
       "3     V5R 1W3    Male  Bachelor  63253.0        Married         Star  4170.57   \n",
       "4     P1L 8X8  Female  Bachelor  91163.0       Divorced         Star  6622.05   \n",
       "\n",
       "  Enrollment Type  Enrollment Year  Enrollment Month  Cancellation Year  \\\n",
       "0        Standard             2016                 8                NaN   \n",
       "1        Standard             2013                 3                NaN   \n",
       "2        Standard             2016                 7                NaN   \n",
       "3        Standard             2015                 8                NaN   \n",
       "4        Standard             2014                 1                NaN   \n",
       "\n",
       "   Cancellation Month  \n",
       "0                 NaN  \n",
       "1                 NaN  \n",
       "2                 NaN  \n",
       "3                 NaN  \n",
       "4                 NaN  "
      ]
     },
     "execution_count": 22,
     "metadata": {},
     "output_type": "execute_result"
    }
   ],
   "source": [
    "df.head()"
   ]
  },
  {
   "cell_type": "code",
   "execution_count": 23,
   "metadata": {},
   "outputs": [
    {
     "name": "stdout",
     "output_type": "stream",
     "text": [
      "El nuevo DataFrame tiene 405624 filas y 25 columnas.\n"
     ]
    }
   ],
   "source": [
    "print(f\"El nuevo DataFrame tiene {df.shape[0]} filas y {df.shape[1]} columnas.\")\n"
   ]
  },
  {
   "cell_type": "code",
   "execution_count": 24,
   "metadata": {},
   "outputs": [
    {
     "name": "stdout",
     "output_type": "stream",
     "text": [
      "Las columnas del nuevo df son: ['Loyalty Number', 'Year', 'Month', 'Flights Booked', 'Flights with Companions', 'Total Flights', 'Distance', 'Points Accumulated', 'Points Redeemed', 'Dollar Cost Points Redeemed', 'Country', 'Province', 'City', 'Postal Code', 'Gender', 'Education', 'Salary', 'Marital Status', 'Loyalty Card', 'CLV', 'Enrollment Type', 'Enrollment Year', 'Enrollment Month', 'Cancellation Year', 'Cancellation Month']\n",
      "\n"
     ]
    }
   ],
   "source": [
    "#Miramos las columnas que han dado como resultado del nuevo dataframe\n",
    "print(f\"Las columnas del nuevo df son: {df.columns.tolist()}\\n\")"
   ]
  },
  {
   "cell_type": "code",
   "execution_count": 25,
   "metadata": {},
   "outputs": [
    {
     "name": "stdout",
     "output_type": "stream",
     "text": [
      "<class 'pandas.core.frame.DataFrame'>\n",
      "RangeIndex: 405624 entries, 0 to 405623\n",
      "Data columns (total 25 columns):\n",
      " #   Column                       Non-Null Count   Dtype  \n",
      "---  ------                       --------------   -----  \n",
      " 0   Loyalty Number               405624 non-null  int64  \n",
      " 1   Year                         405624 non-null  int64  \n",
      " 2   Month                        405624 non-null  int64  \n",
      " 3   Flights Booked               405624 non-null  int64  \n",
      " 4   Flights with Companions      405624 non-null  int64  \n",
      " 5   Total Flights                405624 non-null  int64  \n",
      " 6   Distance                     405624 non-null  int64  \n",
      " 7   Points Accumulated           405624 non-null  float64\n",
      " 8   Points Redeemed              405624 non-null  int64  \n",
      " 9   Dollar Cost Points Redeemed  405624 non-null  int64  \n",
      " 10  Country                      405624 non-null  object \n",
      " 11  Province                     405624 non-null  object \n",
      " 12  City                         405624 non-null  object \n",
      " 13  Postal Code                  405624 non-null  object \n",
      " 14  Gender                       405624 non-null  object \n",
      " 15  Education                    405624 non-null  object \n",
      " 16  Salary                       302952 non-null  float64\n",
      " 17  Marital Status               405624 non-null  object \n",
      " 18  Loyalty Card                 405624 non-null  object \n",
      " 19  CLV                          405624 non-null  float64\n",
      " 20  Enrollment Type              405624 non-null  object \n",
      " 21  Enrollment Year              405624 non-null  int64  \n",
      " 22  Enrollment Month             405624 non-null  int64  \n",
      " 23  Cancellation Year            50064 non-null   float64\n",
      " 24  Cancellation Month           50064 non-null   float64\n",
      "dtypes: float64(5), int64(11), object(9)\n",
      "memory usage: 77.4+ MB\n"
     ]
    },
    {
     "data": {
      "text/plain": [
       "'Muesta la informacion del df: None\\n '"
      ]
     },
     "execution_count": 25,
     "metadata": {},
     "output_type": "execute_result"
    }
   ],
   "source": [
    "#Una vez conocemos las columnas vemos la información general de las mismas para ver el tipo, los no null etc\n",
    "(f'Muesta la informacion del df: {df.info()}\\n ')"
   ]
  },
  {
   "cell_type": "markdown",
   "metadata": {},
   "source": [
    "## 1.2. Limpieza de datos"
   ]
  },
  {
   "cell_type": "code",
   "execution_count": 26,
   "metadata": {},
   "outputs": [],
   "source": [
    "#Revisar que los codigos postales lo se asignan a una ciudad o provincia (groupby ciudad y provincia)"
   ]
  },
  {
   "cell_type": "markdown",
   "metadata": {},
   "source": [
    "Duplicados"
   ]
  },
  {
   "cell_type": "code",
   "execution_count": 27,
   "metadata": {},
   "outputs": [
    {
     "name": "stdout",
     "output_type": "stream",
     "text": [
      "En el df ya unido hay 1864 duplicados\n",
      "En el df de Customer Flight Analysis hay 1864 duplicados\n",
      "En el df de Customer Loyalty History hay 0 duplicados\n"
     ]
    }
   ],
   "source": [
    "print(f\"En el df ya unido hay {df.duplicated().sum()} duplicados\")\n",
    "print(f\"En el df de Customer Flight Analysis hay {df_customer_activity.duplicated().sum()} duplicados\")\n",
    "print(f\"En el df de Customer Loyalty History hay {df_customer_history.duplicated().sum()} duplicados\")"
   ]
  },
  {
   "cell_type": "code",
   "execution_count": 28,
   "metadata": {},
   "outputs": [],
   "source": [
    "df_customer_activity = df_customer_activity.drop_duplicates(ignore_index=True)"
   ]
  },
  {
   "cell_type": "code",
   "execution_count": 29,
   "metadata": {},
   "outputs": [],
   "source": [
    "# Eliminamos las filas duplicadas\n",
    "df = df.drop_duplicates(ignore_index=True)\n"
   ]
  },
  {
   "cell_type": "code",
   "execution_count": 30,
   "metadata": {},
   "outputs": [
    {
     "name": "stdout",
     "output_type": "stream",
     "text": [
      "En el df ya unido hay 0 duplicados\n",
      "En el df de Customer Flight Analysis hay 0 duplicados\n"
     ]
    }
   ],
   "source": [
    "print(f\"En el df ya unido hay {df.duplicated().sum()} duplicados\")\n",
    "print(f\"En el df de Customer Flight Analysis hay {df_customer_activity.duplicated().sum()} duplicados\")"
   ]
  },
  {
   "cell_type": "code",
   "execution_count": 31,
   "metadata": {},
   "outputs": [
    {
     "data": {
      "text/html": [
       "<div>\n",
       "<style scoped>\n",
       "    .dataframe tbody tr th:only-of-type {\n",
       "        vertical-align: middle;\n",
       "    }\n",
       "\n",
       "    .dataframe tbody tr th {\n",
       "        vertical-align: top;\n",
       "    }\n",
       "\n",
       "    .dataframe thead th {\n",
       "        text-align: right;\n",
       "    }\n",
       "</style>\n",
       "<table border=\"1\" class=\"dataframe\">\n",
       "  <thead>\n",
       "    <tr style=\"text-align: right;\">\n",
       "      <th></th>\n",
       "      <th>Loyalty Number</th>\n",
       "      <th>Year</th>\n",
       "      <th>Month</th>\n",
       "      <th>Flights Booked</th>\n",
       "      <th>Flights with Companions</th>\n",
       "      <th>Total Flights</th>\n",
       "      <th>Distance</th>\n",
       "      <th>Points Accumulated</th>\n",
       "      <th>Points Redeemed</th>\n",
       "      <th>Dollar Cost Points Redeemed</th>\n",
       "      <th>Salary</th>\n",
       "      <th>CLV</th>\n",
       "      <th>Enrollment Year</th>\n",
       "      <th>Enrollment Month</th>\n",
       "      <th>Cancellation Year</th>\n",
       "      <th>Cancellation Month</th>\n",
       "    </tr>\n",
       "  </thead>\n",
       "  <tbody>\n",
       "    <tr>\n",
       "      <th>count</th>\n",
       "      <td>403760.00</td>\n",
       "      <td>403760.0</td>\n",
       "      <td>403760.00</td>\n",
       "      <td>403760.00</td>\n",
       "      <td>403760.00</td>\n",
       "      <td>403760.00</td>\n",
       "      <td>403760.00</td>\n",
       "      <td>403760.00</td>\n",
       "      <td>403760.00</td>\n",
       "      <td>403760.00</td>\n",
       "      <td>301500.00</td>\n",
       "      <td>403760.00</td>\n",
       "      <td>403760.00</td>\n",
       "      <td>403760.00</td>\n",
       "      <td>49650.00</td>\n",
       "      <td>49650.00</td>\n",
       "    </tr>\n",
       "    <tr>\n",
       "      <th>mean</th>\n",
       "      <td>549875.38</td>\n",
       "      <td>2017.5</td>\n",
       "      <td>6.50</td>\n",
       "      <td>4.13</td>\n",
       "      <td>1.04</td>\n",
       "      <td>5.17</td>\n",
       "      <td>1214.46</td>\n",
       "      <td>124.26</td>\n",
       "      <td>30.84</td>\n",
       "      <td>2.50</td>\n",
       "      <td>79258.58</td>\n",
       "      <td>7990.86</td>\n",
       "      <td>2015.25</td>\n",
       "      <td>6.67</td>\n",
       "      <td>2016.50</td>\n",
       "      <td>6.96</td>\n",
       "    </tr>\n",
       "    <tr>\n",
       "      <th>std</th>\n",
       "      <td>258961.51</td>\n",
       "      <td>0.5</td>\n",
       "      <td>3.45</td>\n",
       "      <td>5.23</td>\n",
       "      <td>2.08</td>\n",
       "      <td>6.53</td>\n",
       "      <td>1434.10</td>\n",
       "      <td>146.70</td>\n",
       "      <td>125.76</td>\n",
       "      <td>10.17</td>\n",
       "      <td>34983.93</td>\n",
       "      <td>6863.32</td>\n",
       "      <td>1.98</td>\n",
       "      <td>3.40</td>\n",
       "      <td>1.38</td>\n",
       "      <td>3.45</td>\n",
       "    </tr>\n",
       "    <tr>\n",
       "      <th>min</th>\n",
       "      <td>100018.00</td>\n",
       "      <td>2017.0</td>\n",
       "      <td>1.00</td>\n",
       "      <td>0.00</td>\n",
       "      <td>0.00</td>\n",
       "      <td>0.00</td>\n",
       "      <td>0.00</td>\n",
       "      <td>0.00</td>\n",
       "      <td>0.00</td>\n",
       "      <td>0.00</td>\n",
       "      <td>-58486.00</td>\n",
       "      <td>1898.01</td>\n",
       "      <td>2012.00</td>\n",
       "      <td>1.00</td>\n",
       "      <td>2013.00</td>\n",
       "      <td>1.00</td>\n",
       "    </tr>\n",
       "    <tr>\n",
       "      <th>25%</th>\n",
       "      <td>326699.00</td>\n",
       "      <td>2017.0</td>\n",
       "      <td>4.00</td>\n",
       "      <td>0.00</td>\n",
       "      <td>0.00</td>\n",
       "      <td>0.00</td>\n",
       "      <td>0.00</td>\n",
       "      <td>0.00</td>\n",
       "      <td>0.00</td>\n",
       "      <td>0.00</td>\n",
       "      <td>59262.00</td>\n",
       "      <td>3981.78</td>\n",
       "      <td>2014.00</td>\n",
       "      <td>4.00</td>\n",
       "      <td>2016.00</td>\n",
       "      <td>4.00</td>\n",
       "    </tr>\n",
       "    <tr>\n",
       "      <th>50%</th>\n",
       "      <td>550598.00</td>\n",
       "      <td>2018.0</td>\n",
       "      <td>7.00</td>\n",
       "      <td>1.00</td>\n",
       "      <td>0.00</td>\n",
       "      <td>1.00</td>\n",
       "      <td>525.00</td>\n",
       "      <td>53.00</td>\n",
       "      <td>0.00</td>\n",
       "      <td>0.00</td>\n",
       "      <td>73479.00</td>\n",
       "      <td>5776.34</td>\n",
       "      <td>2015.00</td>\n",
       "      <td>7.00</td>\n",
       "      <td>2017.00</td>\n",
       "      <td>7.00</td>\n",
       "    </tr>\n",
       "    <tr>\n",
       "      <th>75%</th>\n",
       "      <td>772152.00</td>\n",
       "      <td>2018.0</td>\n",
       "      <td>10.00</td>\n",
       "      <td>8.00</td>\n",
       "      <td>1.00</td>\n",
       "      <td>10.00</td>\n",
       "      <td>2342.00</td>\n",
       "      <td>240.00</td>\n",
       "      <td>0.00</td>\n",
       "      <td>0.00</td>\n",
       "      <td>88606.00</td>\n",
       "      <td>8937.12</td>\n",
       "      <td>2017.00</td>\n",
       "      <td>10.00</td>\n",
       "      <td>2018.00</td>\n",
       "      <td>10.00</td>\n",
       "    </tr>\n",
       "    <tr>\n",
       "      <th>max</th>\n",
       "      <td>999986.00</td>\n",
       "      <td>2018.0</td>\n",
       "      <td>12.00</td>\n",
       "      <td>21.00</td>\n",
       "      <td>11.00</td>\n",
       "      <td>32.00</td>\n",
       "      <td>6293.00</td>\n",
       "      <td>676.50</td>\n",
       "      <td>876.00</td>\n",
       "      <td>71.00</td>\n",
       "      <td>407228.00</td>\n",
       "      <td>83325.38</td>\n",
       "      <td>2018.00</td>\n",
       "      <td>12.00</td>\n",
       "      <td>2018.00</td>\n",
       "      <td>12.00</td>\n",
       "    </tr>\n",
       "  </tbody>\n",
       "</table>\n",
       "</div>"
      ],
      "text/plain": [
       "       Loyalty Number      Year      Month  Flights Booked  \\\n",
       "count       403760.00  403760.0  403760.00       403760.00   \n",
       "mean        549875.38    2017.5       6.50            4.13   \n",
       "std         258961.51       0.5       3.45            5.23   \n",
       "min         100018.00    2017.0       1.00            0.00   \n",
       "25%         326699.00    2017.0       4.00            0.00   \n",
       "50%         550598.00    2018.0       7.00            1.00   \n",
       "75%         772152.00    2018.0      10.00            8.00   \n",
       "max         999986.00    2018.0      12.00           21.00   \n",
       "\n",
       "       Flights with Companions  Total Flights   Distance  Points Accumulated  \\\n",
       "count                403760.00      403760.00  403760.00           403760.00   \n",
       "mean                      1.04           5.17    1214.46              124.26   \n",
       "std                       2.08           6.53    1434.10              146.70   \n",
       "min                       0.00           0.00       0.00                0.00   \n",
       "25%                       0.00           0.00       0.00                0.00   \n",
       "50%                       0.00           1.00     525.00               53.00   \n",
       "75%                       1.00          10.00    2342.00              240.00   \n",
       "max                      11.00          32.00    6293.00              676.50   \n",
       "\n",
       "       Points Redeemed  Dollar Cost Points Redeemed     Salary        CLV  \\\n",
       "count        403760.00                    403760.00  301500.00  403760.00   \n",
       "mean             30.84                         2.50   79258.58    7990.86   \n",
       "std             125.76                        10.17   34983.93    6863.32   \n",
       "min               0.00                         0.00  -58486.00    1898.01   \n",
       "25%               0.00                         0.00   59262.00    3981.78   \n",
       "50%               0.00                         0.00   73479.00    5776.34   \n",
       "75%               0.00                         0.00   88606.00    8937.12   \n",
       "max             876.00                        71.00  407228.00   83325.38   \n",
       "\n",
       "       Enrollment Year  Enrollment Month  Cancellation Year  \\\n",
       "count        403760.00         403760.00           49650.00   \n",
       "mean           2015.25              6.67            2016.50   \n",
       "std               1.98              3.40               1.38   \n",
       "min            2012.00              1.00            2013.00   \n",
       "25%            2014.00              4.00            2016.00   \n",
       "50%            2015.00              7.00            2017.00   \n",
       "75%            2017.00             10.00            2018.00   \n",
       "max            2018.00             12.00            2018.00   \n",
       "\n",
       "       Cancellation Month  \n",
       "count            49650.00  \n",
       "mean                 6.96  \n",
       "std                  3.45  \n",
       "min                  1.00  \n",
       "25%                  4.00  \n",
       "50%                  7.00  \n",
       "75%                 10.00  \n",
       "max                 12.00  "
      ]
     },
     "execution_count": 31,
     "metadata": {},
     "output_type": "execute_result"
    }
   ],
   "source": [
    "df.describe().round(2)"
   ]
  },
  {
   "cell_type": "markdown",
   "metadata": {},
   "source": [
    "Al aparecer unos valores negativos en el mínimo de \"Salary\" no se si es un error o si es que hay personas morosas por lo que viramos cuántos sale en negativo "
   ]
  },
  {
   "cell_type": "code",
   "execution_count": 32,
   "metadata": {},
   "outputs": [],
   "source": [
    "valores_negativos_salary = df['Salary'][df['Salary'] < 0]"
   ]
  },
  {
   "cell_type": "code",
   "execution_count": 33,
   "metadata": {},
   "outputs": [
    {
     "data": {
      "text/plain": [
       "291      -10605.0\n",
       "956      -58486.0\n",
       "1716     -31911.0\n",
       "2081     -49001.0\n",
       "2433     -46683.0\n",
       "           ...   \n",
       "398813   -46303.0\n",
       "399884   -34079.0\n",
       "402017   -57297.0\n",
       "402459   -17534.0\n",
       "403021   -12497.0\n",
       "Name: Salary, Length: 480, dtype: float64"
      ]
     },
     "execution_count": 33,
     "metadata": {},
     "output_type": "execute_result"
    }
   ],
   "source": [
    "valores_negativos_salary"
   ]
  },
  {
   "cell_type": "code",
   "execution_count": 34,
   "metadata": {},
   "outputs": [
    {
     "name": "stdout",
     "output_type": "stream",
     "text": [
      " Los valores negativos representan un 2.87% de la columna Salary\n"
     ]
    }
   ],
   "source": [
    "print(f\" Los valores negativos representan un {round(((len(valores_negativos_salary)/(df_customer_history.shape[0]))*100),2)}% de la columna Salary\")"
   ]
  },
  {
   "cell_type": "markdown",
   "metadata": {},
   "source": [
    "Al haber tan sólo un 2.87% de números negativos, sumado que no tiene sentido que alguien tenga un salario negativo y a que en la próxima fase del ejercicio vamos a calcular el promedio del salario(ejercicio 2.4.) se entiende que estos negativos pueden ser un error externo y se transforman en positivo. \n",
    "Para ello se va a usar la funcion .abs() de la libreria pandas que convierte los valores  negativos en positivos"
   ]
  },
  {
   "cell_type": "code",
   "execution_count": 35,
   "metadata": {},
   "outputs": [],
   "source": [
    "df['Salary'] = df['Salary'].abs()\n"
   ]
  },
  {
   "cell_type": "code",
   "execution_count": 36,
   "metadata": {},
   "outputs": [
    {
     "name": "stdout",
     "output_type": "stream",
     "text": [
      "El número menos de la columna salario ahora es 9081.0\n"
     ]
    }
   ],
   "source": [
    "#Comprobamos que se ha cambiado mirando el salario minimo que ya no debería ser positivo \n",
    "print(f'El número menos de la columna salario ahora es {df[\"Salary\"].min()}')"
   ]
  },
  {
   "cell_type": "markdown",
   "metadata": {},
   "source": [
    "Nulos\n"
   ]
  },
  {
   "cell_type": "code",
   "execution_count": 37,
   "metadata": {},
   "outputs": [
    {
     "name": "stdout",
     "output_type": "stream",
     "text": [
      "Las columnas numéricas que tienen nulos son : \n",
      " \n",
      "Index(['Salary', 'Cancellation Year', 'Cancellation Month'], dtype='object')\n"
     ]
    }
   ],
   "source": [
    "nulos_esta_num = df[df.columns[df.isnull().any()]].select_dtypes(include = np.number).columns\n",
    "print(\"Las columnas numéricas que tienen nulos son : \\n \")\n",
    "print(nulos_esta_num)"
   ]
  },
  {
   "cell_type": "markdown",
   "metadata": {},
   "source": [
    "Como se ha dicho anteriormente, las columnas de Cancellation Year y Cancellation Month se van a dejar los nulos debido a que pueden indicar que son personas que no han cancelado su programa de puntos y sólo se van a tratar la de la columna Salary ya que representa un porcentaje alto y necesitamos esos numeros para luego hacer estimaciones.  \n",
    "Como los nulos representan un cuarto de la población seleccionada, se va a dejar un DataFrame con nulos y otros sin nulos, para luego poder comparar si nuestra imputación de datos se va a desviar demasiado y tomar decisiones."
   ]
  },
  {
   "cell_type": "code",
   "execution_count": 38,
   "metadata": {},
   "outputs": [
    {
     "data": {
      "text/plain": [
       "count    301500.00\n",
       "mean      79371.73\n",
       "std       34726.43\n",
       "min        9081.00\n",
       "25%       59262.00\n",
       "50%       73479.00\n",
       "75%       88606.00\n",
       "max      407228.00\n",
       "Name: Salary, dtype: float64"
      ]
     },
     "execution_count": 38,
     "metadata": {},
     "output_type": "execute_result"
    }
   ],
   "source": [
    "#Miramos primero de nuevo una descripcion de todos los datos de salario para hacernos una idea\n",
    "round(df[\"Salary\"].describe(),2)"
   ]
  },
  {
   "cell_type": "markdown",
   "metadata": {},
   "source": [
    "Al ser \"Salary\" una cualidad sociodemografica, se compara con otras posibles cualidades sociodemograficas que tenemos dentro de la base de datos y que pueden determinar el salario como es el género, el nivel educativo o el estado civil. Mirando los perfiles que hay la idea es hacer una media de perfiles que puedan ayudarnos a poder imputar los datos con datos poblacionales similares.  "
   ]
  },
  {
   "cell_type": "code",
   "execution_count": 39,
   "metadata": {},
   "outputs": [
    {
     "data": {
      "text/html": [
       "<div>\n",
       "<style scoped>\n",
       "    .dataframe tbody tr th:only-of-type {\n",
       "        vertical-align: middle;\n",
       "    }\n",
       "\n",
       "    .dataframe tbody tr th {\n",
       "        vertical-align: top;\n",
       "    }\n",
       "\n",
       "    .dataframe thead tr th {\n",
       "        text-align: left;\n",
       "    }\n",
       "\n",
       "    .dataframe thead tr:last-of-type th {\n",
       "        text-align: right;\n",
       "    }\n",
       "</style>\n",
       "<table border=\"1\" class=\"dataframe\">\n",
       "  <thead>\n",
       "    <tr>\n",
       "      <th></th>\n",
       "      <th></th>\n",
       "      <th></th>\n",
       "      <th colspan=\"8\" halign=\"left\">Salary</th>\n",
       "    </tr>\n",
       "    <tr>\n",
       "      <th></th>\n",
       "      <th></th>\n",
       "      <th></th>\n",
       "      <th>count</th>\n",
       "      <th>mean</th>\n",
       "      <th>std</th>\n",
       "      <th>min</th>\n",
       "      <th>25%</th>\n",
       "      <th>50%</th>\n",
       "      <th>75%</th>\n",
       "      <th>max</th>\n",
       "    </tr>\n",
       "    <tr>\n",
       "      <th>Gender</th>\n",
       "      <th>Education</th>\n",
       "      <th>Marital Status</th>\n",
       "      <th></th>\n",
       "      <th></th>\n",
       "      <th></th>\n",
       "      <th></th>\n",
       "      <th></th>\n",
       "      <th></th>\n",
       "      <th></th>\n",
       "      <th></th>\n",
       "    </tr>\n",
       "  </thead>\n",
       "  <tbody>\n",
       "    <tr>\n",
       "      <th rowspan=\"15\" valign=\"top\">Female</th>\n",
       "      <th rowspan=\"3\" valign=\"top\">Bachelor</th>\n",
       "      <th>Divorced</th>\n",
       "      <td>19846.0</td>\n",
       "      <td>72498.03</td>\n",
       "      <td>16501.97</td>\n",
       "      <td>15609.0</td>\n",
       "      <td>59429.0</td>\n",
       "      <td>72378.0</td>\n",
       "      <td>85573.00</td>\n",
       "      <td>104990.0</td>\n",
       "    </tr>\n",
       "    <tr>\n",
       "      <th>Married</th>\n",
       "      <td>86121.0</td>\n",
       "      <td>72994.14</td>\n",
       "      <td>16769.81</td>\n",
       "      <td>9081.0</td>\n",
       "      <td>58900.0</td>\n",
       "      <td>72817.0</td>\n",
       "      <td>86233.00</td>\n",
       "      <td>105068.0</td>\n",
       "    </tr>\n",
       "    <tr>\n",
       "      <th>Single</th>\n",
       "      <td>21335.0</td>\n",
       "      <td>72045.53</td>\n",
       "      <td>17085.20</td>\n",
       "      <td>16743.0</td>\n",
       "      <td>57546.0</td>\n",
       "      <td>70152.0</td>\n",
       "      <td>85174.00</td>\n",
       "      <td>104947.0</td>\n",
       "    </tr>\n",
       "    <tr>\n",
       "      <th rowspan=\"3\" valign=\"top\">College</th>\n",
       "      <th>Divorced</th>\n",
       "      <td>0.0</td>\n",
       "      <td>NaN</td>\n",
       "      <td>NaN</td>\n",
       "      <td>NaN</td>\n",
       "      <td>NaN</td>\n",
       "      <td>NaN</td>\n",
       "      <td>NaN</td>\n",
       "      <td>NaN</td>\n",
       "    </tr>\n",
       "    <tr>\n",
       "      <th>Married</th>\n",
       "      <td>0.0</td>\n",
       "      <td>NaN</td>\n",
       "      <td>NaN</td>\n",
       "      <td>NaN</td>\n",
       "      <td>NaN</td>\n",
       "      <td>NaN</td>\n",
       "      <td>NaN</td>\n",
       "      <td>NaN</td>\n",
       "    </tr>\n",
       "    <tr>\n",
       "      <th>Single</th>\n",
       "      <td>0.0</td>\n",
       "      <td>NaN</td>\n",
       "      <td>NaN</td>\n",
       "      <td>NaN</td>\n",
       "      <td>NaN</td>\n",
       "      <td>NaN</td>\n",
       "      <td>NaN</td>\n",
       "      <td>NaN</td>\n",
       "    </tr>\n",
       "    <tr>\n",
       "      <th rowspan=\"3\" valign=\"top\">Doctor</th>\n",
       "      <th>Divorced</th>\n",
       "      <td>2304.0</td>\n",
       "      <td>182508.35</td>\n",
       "      <td>60908.79</td>\n",
       "      <td>67411.0</td>\n",
       "      <td>131981.0</td>\n",
       "      <td>191662.0</td>\n",
       "      <td>220865.25</td>\n",
       "      <td>299953.0</td>\n",
       "    </tr>\n",
       "    <tr>\n",
       "      <th>Married</th>\n",
       "      <td>5485.0</td>\n",
       "      <td>178367.33</td>\n",
       "      <td>70556.80</td>\n",
       "      <td>48210.0</td>\n",
       "      <td>123495.0</td>\n",
       "      <td>170041.0</td>\n",
       "      <td>227341.00</td>\n",
       "      <td>407228.0</td>\n",
       "    </tr>\n",
       "    <tr>\n",
       "      <th>Single</th>\n",
       "      <td>1176.0</td>\n",
       "      <td>149117.53</td>\n",
       "      <td>74191.61</td>\n",
       "      <td>50363.0</td>\n",
       "      <td>89057.0</td>\n",
       "      <td>135971.0</td>\n",
       "      <td>195322.00</td>\n",
       "      <td>363189.0</td>\n",
       "    </tr>\n",
       "    <tr>\n",
       "      <th rowspan=\"3\" valign=\"top\">High School or Below</th>\n",
       "      <th>Divorced</th>\n",
       "      <td>1392.0</td>\n",
       "      <td>65601.21</td>\n",
       "      <td>12406.50</td>\n",
       "      <td>36588.0</td>\n",
       "      <td>54522.0</td>\n",
       "      <td>67718.0</td>\n",
       "      <td>75820.00</td>\n",
       "      <td>90085.0</td>\n",
       "    </tr>\n",
       "    <tr>\n",
       "      <th>Married</th>\n",
       "      <td>6571.0</td>\n",
       "      <td>60823.24</td>\n",
       "      <td>11139.36</td>\n",
       "      <td>39079.0</td>\n",
       "      <td>52717.0</td>\n",
       "      <td>61040.0</td>\n",
       "      <td>69519.00</td>\n",
       "      <td>81036.0</td>\n",
       "    </tr>\n",
       "    <tr>\n",
       "      <th>Single</th>\n",
       "      <td>1733.0</td>\n",
       "      <td>59303.70</td>\n",
       "      <td>14259.58</td>\n",
       "      <td>21853.0</td>\n",
       "      <td>45229.0</td>\n",
       "      <td>60370.0</td>\n",
       "      <td>71108.00</td>\n",
       "      <td>83044.0</td>\n",
       "    </tr>\n",
       "    <tr>\n",
       "      <th rowspan=\"3\" valign=\"top\">Master</th>\n",
       "      <th>Divorced</th>\n",
       "      <td>2496.0</td>\n",
       "      <td>99578.36</td>\n",
       "      <td>16028.49</td>\n",
       "      <td>56414.0</td>\n",
       "      <td>85959.0</td>\n",
       "      <td>102782.0</td>\n",
       "      <td>110235.75</td>\n",
       "      <td>133080.0</td>\n",
       "    </tr>\n",
       "    <tr>\n",
       "      <th>Married</th>\n",
       "      <td>2520.0</td>\n",
       "      <td>104444.90</td>\n",
       "      <td>18387.68</td>\n",
       "      <td>70615.0</td>\n",
       "      <td>89964.0</td>\n",
       "      <td>106899.0</td>\n",
       "      <td>123828.00</td>\n",
       "      <td>132353.0</td>\n",
       "    </tr>\n",
       "    <tr>\n",
       "      <th>Single</th>\n",
       "      <td>1416.0</td>\n",
       "      <td>104412.73</td>\n",
       "      <td>19883.85</td>\n",
       "      <td>72027.0</td>\n",
       "      <td>81333.0</td>\n",
       "      <td>114551.0</td>\n",
       "      <td>118530.00</td>\n",
       "      <td>128691.0</td>\n",
       "    </tr>\n",
       "    <tr>\n",
       "      <th rowspan=\"15\" valign=\"top\">Male</th>\n",
       "      <th rowspan=\"3\" valign=\"top\">Bachelor</th>\n",
       "      <th>Divorced</th>\n",
       "      <td>19824.0</td>\n",
       "      <td>72327.30</td>\n",
       "      <td>16654.53</td>\n",
       "      <td>17682.0</td>\n",
       "      <td>59410.0</td>\n",
       "      <td>70321.0</td>\n",
       "      <td>86536.00</td>\n",
       "      <td>104728.0</td>\n",
       "    </tr>\n",
       "    <tr>\n",
       "      <th>Married</th>\n",
       "      <td>85385.0</td>\n",
       "      <td>72601.42</td>\n",
       "      <td>16652.47</td>\n",
       "      <td>10605.0</td>\n",
       "      <td>58505.0</td>\n",
       "      <td>72409.0</td>\n",
       "      <td>85487.00</td>\n",
       "      <td>105563.0</td>\n",
       "    </tr>\n",
       "    <tr>\n",
       "      <th>Single</th>\n",
       "      <td>20056.0</td>\n",
       "      <td>71850.20</td>\n",
       "      <td>15956.59</td>\n",
       "      <td>16628.0</td>\n",
       "      <td>59082.0</td>\n",
       "      <td>70384.0</td>\n",
       "      <td>83379.00</td>\n",
       "      <td>104878.0</td>\n",
       "    </tr>\n",
       "    <tr>\n",
       "      <th rowspan=\"3\" valign=\"top\">College</th>\n",
       "      <th>Divorced</th>\n",
       "      <td>0.0</td>\n",
       "      <td>NaN</td>\n",
       "      <td>NaN</td>\n",
       "      <td>NaN</td>\n",
       "      <td>NaN</td>\n",
       "      <td>NaN</td>\n",
       "      <td>NaN</td>\n",
       "      <td>NaN</td>\n",
       "    </tr>\n",
       "    <tr>\n",
       "      <th>Married</th>\n",
       "      <td>0.0</td>\n",
       "      <td>NaN</td>\n",
       "      <td>NaN</td>\n",
       "      <td>NaN</td>\n",
       "      <td>NaN</td>\n",
       "      <td>NaN</td>\n",
       "      <td>NaN</td>\n",
       "      <td>NaN</td>\n",
       "    </tr>\n",
       "    <tr>\n",
       "      <th>Single</th>\n",
       "      <td>0.0</td>\n",
       "      <td>NaN</td>\n",
       "      <td>NaN</td>\n",
       "      <td>NaN</td>\n",
       "      <td>NaN</td>\n",
       "      <td>NaN</td>\n",
       "      <td>NaN</td>\n",
       "      <td>NaN</td>\n",
       "    </tr>\n",
       "    <tr>\n",
       "      <th rowspan=\"3\" valign=\"top\">Doctor</th>\n",
       "      <th>Divorced</th>\n",
       "      <td>2040.0</td>\n",
       "      <td>184905.61</td>\n",
       "      <td>68995.30</td>\n",
       "      <td>58178.0</td>\n",
       "      <td>125167.0</td>\n",
       "      <td>198691.0</td>\n",
       "      <td>241906.00</td>\n",
       "      <td>362833.0</td>\n",
       "    </tr>\n",
       "    <tr>\n",
       "      <th>Married</th>\n",
       "      <td>5689.0</td>\n",
       "      <td>183683.31</td>\n",
       "      <td>71100.65</td>\n",
       "      <td>48109.0</td>\n",
       "      <td>131880.0</td>\n",
       "      <td>195373.0</td>\n",
       "      <td>240146.00</td>\n",
       "      <td>381124.0</td>\n",
       "    </tr>\n",
       "    <tr>\n",
       "      <th>Single</th>\n",
       "      <td>1037.0</td>\n",
       "      <td>160932.97</td>\n",
       "      <td>72469.62</td>\n",
       "      <td>53429.0</td>\n",
       "      <td>74492.0</td>\n",
       "      <td>157933.0</td>\n",
       "      <td>229266.00</td>\n",
       "      <td>279713.0</td>\n",
       "    </tr>\n",
       "    <tr>\n",
       "      <th rowspan=\"3\" valign=\"top\">High School or Below</th>\n",
       "      <th>Divorced</th>\n",
       "      <td>1629.0</td>\n",
       "      <td>60925.26</td>\n",
       "      <td>11822.45</td>\n",
       "      <td>39370.0</td>\n",
       "      <td>50285.0</td>\n",
       "      <td>61579.0</td>\n",
       "      <td>72896.00</td>\n",
       "      <td>83867.0</td>\n",
       "    </tr>\n",
       "    <tr>\n",
       "      <th>Married</th>\n",
       "      <td>5934.0</td>\n",
       "      <td>61654.03</td>\n",
       "      <td>11534.48</td>\n",
       "      <td>32785.0</td>\n",
       "      <td>52239.0</td>\n",
       "      <td>62164.0</td>\n",
       "      <td>70078.00</td>\n",
       "      <td>93875.0</td>\n",
       "    </tr>\n",
       "    <tr>\n",
       "      <th>Single</th>\n",
       "      <td>1656.0</td>\n",
       "      <td>59010.75</td>\n",
       "      <td>14117.98</td>\n",
       "      <td>25862.0</td>\n",
       "      <td>45654.0</td>\n",
       "      <td>59237.0</td>\n",
       "      <td>69957.00</td>\n",
       "      <td>81873.0</td>\n",
       "    </tr>\n",
       "    <tr>\n",
       "      <th rowspan=\"3\" valign=\"top\">Master</th>\n",
       "      <th>Divorced</th>\n",
       "      <td>2123.0</td>\n",
       "      <td>101887.28</td>\n",
       "      <td>14701.04</td>\n",
       "      <td>67462.0</td>\n",
       "      <td>94440.0</td>\n",
       "      <td>105231.0</td>\n",
       "      <td>112860.00</td>\n",
       "      <td>126075.0</td>\n",
       "    </tr>\n",
       "    <tr>\n",
       "      <th>Married</th>\n",
       "      <td>2515.0</td>\n",
       "      <td>107898.99</td>\n",
       "      <td>17035.83</td>\n",
       "      <td>71038.0</td>\n",
       "      <td>100817.0</td>\n",
       "      <td>111106.0</td>\n",
       "      <td>123841.00</td>\n",
       "      <td>132353.0</td>\n",
       "    </tr>\n",
       "    <tr>\n",
       "      <th>Single</th>\n",
       "      <td>1217.0</td>\n",
       "      <td>104614.87</td>\n",
       "      <td>18877.82</td>\n",
       "      <td>72027.0</td>\n",
       "      <td>81765.0</td>\n",
       "      <td>114551.0</td>\n",
       "      <td>118530.00</td>\n",
       "      <td>128691.0</td>\n",
       "    </tr>\n",
       "  </tbody>\n",
       "</table>\n",
       "</div>"
      ],
      "text/plain": [
       "                                             Salary                       \\\n",
       "                                              count       mean       std   \n",
       "Gender Education            Marital Status                                 \n",
       "Female Bachelor             Divorced        19846.0   72498.03  16501.97   \n",
       "                            Married         86121.0   72994.14  16769.81   \n",
       "                            Single          21335.0   72045.53  17085.20   \n",
       "       College              Divorced            0.0        NaN       NaN   \n",
       "                            Married             0.0        NaN       NaN   \n",
       "                            Single              0.0        NaN       NaN   \n",
       "       Doctor               Divorced         2304.0  182508.35  60908.79   \n",
       "                            Married          5485.0  178367.33  70556.80   \n",
       "                            Single           1176.0  149117.53  74191.61   \n",
       "       High School or Below Divorced         1392.0   65601.21  12406.50   \n",
       "                            Married          6571.0   60823.24  11139.36   \n",
       "                            Single           1733.0   59303.70  14259.58   \n",
       "       Master               Divorced         2496.0   99578.36  16028.49   \n",
       "                            Married          2520.0  104444.90  18387.68   \n",
       "                            Single           1416.0  104412.73  19883.85   \n",
       "Male   Bachelor             Divorced        19824.0   72327.30  16654.53   \n",
       "                            Married         85385.0   72601.42  16652.47   \n",
       "                            Single          20056.0   71850.20  15956.59   \n",
       "       College              Divorced            0.0        NaN       NaN   \n",
       "                            Married             0.0        NaN       NaN   \n",
       "                            Single              0.0        NaN       NaN   \n",
       "       Doctor               Divorced         2040.0  184905.61  68995.30   \n",
       "                            Married          5689.0  183683.31  71100.65   \n",
       "                            Single           1037.0  160932.97  72469.62   \n",
       "       High School or Below Divorced         1629.0   60925.26  11822.45   \n",
       "                            Married          5934.0   61654.03  11534.48   \n",
       "                            Single           1656.0   59010.75  14117.98   \n",
       "       Master               Divorced         2123.0  101887.28  14701.04   \n",
       "                            Married          2515.0  107898.99  17035.83   \n",
       "                            Single           1217.0  104614.87  18877.82   \n",
       "\n",
       "                                                                         \\\n",
       "                                                min       25%       50%   \n",
       "Gender Education            Marital Status                                \n",
       "Female Bachelor             Divorced        15609.0   59429.0   72378.0   \n",
       "                            Married          9081.0   58900.0   72817.0   \n",
       "                            Single          16743.0   57546.0   70152.0   \n",
       "       College              Divorced            NaN       NaN       NaN   \n",
       "                            Married             NaN       NaN       NaN   \n",
       "                            Single              NaN       NaN       NaN   \n",
       "       Doctor               Divorced        67411.0  131981.0  191662.0   \n",
       "                            Married         48210.0  123495.0  170041.0   \n",
       "                            Single          50363.0   89057.0  135971.0   \n",
       "       High School or Below Divorced        36588.0   54522.0   67718.0   \n",
       "                            Married         39079.0   52717.0   61040.0   \n",
       "                            Single          21853.0   45229.0   60370.0   \n",
       "       Master               Divorced        56414.0   85959.0  102782.0   \n",
       "                            Married         70615.0   89964.0  106899.0   \n",
       "                            Single          72027.0   81333.0  114551.0   \n",
       "Male   Bachelor             Divorced        17682.0   59410.0   70321.0   \n",
       "                            Married         10605.0   58505.0   72409.0   \n",
       "                            Single          16628.0   59082.0   70384.0   \n",
       "       College              Divorced            NaN       NaN       NaN   \n",
       "                            Married             NaN       NaN       NaN   \n",
       "                            Single              NaN       NaN       NaN   \n",
       "       Doctor               Divorced        58178.0  125167.0  198691.0   \n",
       "                            Married         48109.0  131880.0  195373.0   \n",
       "                            Single          53429.0   74492.0  157933.0   \n",
       "       High School or Below Divorced        39370.0   50285.0   61579.0   \n",
       "                            Married         32785.0   52239.0   62164.0   \n",
       "                            Single          25862.0   45654.0   59237.0   \n",
       "       Master               Divorced        67462.0   94440.0  105231.0   \n",
       "                            Married         71038.0  100817.0  111106.0   \n",
       "                            Single          72027.0   81765.0  114551.0   \n",
       "\n",
       "                                                                 \n",
       "                                                  75%       max  \n",
       "Gender Education            Marital Status                       \n",
       "Female Bachelor             Divorced         85573.00  104990.0  \n",
       "                            Married          86233.00  105068.0  \n",
       "                            Single           85174.00  104947.0  \n",
       "       College              Divorced              NaN       NaN  \n",
       "                            Married               NaN       NaN  \n",
       "                            Single                NaN       NaN  \n",
       "       Doctor               Divorced        220865.25  299953.0  \n",
       "                            Married         227341.00  407228.0  \n",
       "                            Single          195322.00  363189.0  \n",
       "       High School or Below Divorced         75820.00   90085.0  \n",
       "                            Married          69519.00   81036.0  \n",
       "                            Single           71108.00   83044.0  \n",
       "       Master               Divorced        110235.75  133080.0  \n",
       "                            Married         123828.00  132353.0  \n",
       "                            Single          118530.00  128691.0  \n",
       "Male   Bachelor             Divorced         86536.00  104728.0  \n",
       "                            Married          85487.00  105563.0  \n",
       "                            Single           83379.00  104878.0  \n",
       "       College              Divorced              NaN       NaN  \n",
       "                            Married               NaN       NaN  \n",
       "                            Single                NaN       NaN  \n",
       "       Doctor               Divorced        241906.00  362833.0  \n",
       "                            Married         240146.00  381124.0  \n",
       "                            Single          229266.00  279713.0  \n",
       "       High School or Below Divorced         72896.00   83867.0  \n",
       "                            Married          70078.00   93875.0  \n",
       "                            Single           69957.00   81873.0  \n",
       "       Master               Divorced        112860.00  126075.0  \n",
       "                            Married         123841.00  132353.0  \n",
       "                            Single          118530.00  128691.0  "
      ]
     },
     "execution_count": 39,
     "metadata": {},
     "output_type": "execute_result"
    }
   ],
   "source": [
    "#Para ello hacemos un groupby con salario y los perfiles sociodemograficos ya mencionados\n",
    "groupby_imputacion = round(df[['Salary','Gender','Education','Marital Status']].groupby(['Gender','Education','Marital Status']).describe(),2)\n",
    "groupby_imputacion"
   ]
  },
  {
   "cell_type": "markdown",
   "metadata": {},
   "source": [
    "Observamos que en todos los perfiles de las personas que su nivel de estudios es \"College\" esta en nulo, lo que nos hace sospechar y miramos más especificamente el perfil de salario por nivel de estudios"
   ]
  },
  {
   "cell_type": "code",
   "execution_count": 40,
   "metadata": {},
   "outputs": [
    {
     "data": {
      "text/html": [
       "<div>\n",
       "<style scoped>\n",
       "    .dataframe tbody tr th:only-of-type {\n",
       "        vertical-align: middle;\n",
       "    }\n",
       "\n",
       "    .dataframe tbody tr th {\n",
       "        vertical-align: top;\n",
       "    }\n",
       "\n",
       "    .dataframe thead tr th {\n",
       "        text-align: left;\n",
       "    }\n",
       "\n",
       "    .dataframe thead tr:last-of-type th {\n",
       "        text-align: right;\n",
       "    }\n",
       "</style>\n",
       "<table border=\"1\" class=\"dataframe\">\n",
       "  <thead>\n",
       "    <tr>\n",
       "      <th></th>\n",
       "      <th colspan=\"8\" halign=\"left\">Salary</th>\n",
       "    </tr>\n",
       "    <tr>\n",
       "      <th></th>\n",
       "      <th>count</th>\n",
       "      <th>mean</th>\n",
       "      <th>std</th>\n",
       "      <th>min</th>\n",
       "      <th>25%</th>\n",
       "      <th>50%</th>\n",
       "      <th>75%</th>\n",
       "      <th>max</th>\n",
       "    </tr>\n",
       "    <tr>\n",
       "      <th>Education</th>\n",
       "      <th></th>\n",
       "      <th></th>\n",
       "      <th></th>\n",
       "      <th></th>\n",
       "      <th></th>\n",
       "      <th></th>\n",
       "      <th></th>\n",
       "      <th></th>\n",
       "    </tr>\n",
       "  </thead>\n",
       "  <tbody>\n",
       "    <tr>\n",
       "      <th>Bachelor</th>\n",
       "      <td>252567.0</td>\n",
       "      <td>72599.08</td>\n",
       "      <td>16667.68</td>\n",
       "      <td>9081.0</td>\n",
       "      <td>58711.0</td>\n",
       "      <td>71972.0</td>\n",
       "      <td>85866.0</td>\n",
       "      <td>105563.0</td>\n",
       "    </tr>\n",
       "    <tr>\n",
       "      <th>College</th>\n",
       "      <td>0.0</td>\n",
       "      <td>NaN</td>\n",
       "      <td>NaN</td>\n",
       "      <td>NaN</td>\n",
       "      <td>NaN</td>\n",
       "      <td>NaN</td>\n",
       "      <td>NaN</td>\n",
       "      <td>NaN</td>\n",
       "    </tr>\n",
       "    <tr>\n",
       "      <th>Doctor</th>\n",
       "      <td>17731.0</td>\n",
       "      <td>178403.68</td>\n",
       "      <td>70380.05</td>\n",
       "      <td>48109.0</td>\n",
       "      <td>124407.0</td>\n",
       "      <td>180440.0</td>\n",
       "      <td>236612.0</td>\n",
       "      <td>407228.0</td>\n",
       "    </tr>\n",
       "    <tr>\n",
       "      <th>High School or Below</th>\n",
       "      <td>18915.0</td>\n",
       "      <td>61146.38</td>\n",
       "      <td>12105.35</td>\n",
       "      <td>21853.0</td>\n",
       "      <td>52054.0</td>\n",
       "      <td>61806.0</td>\n",
       "      <td>71344.0</td>\n",
       "      <td>93875.0</td>\n",
       "    </tr>\n",
       "    <tr>\n",
       "      <th>Master</th>\n",
       "      <td>12287.0</td>\n",
       "      <td>103734.52</td>\n",
       "      <td>17518.49</td>\n",
       "      <td>56414.0</td>\n",
       "      <td>88120.0</td>\n",
       "      <td>105487.0</td>\n",
       "      <td>118530.0</td>\n",
       "      <td>133080.0</td>\n",
       "    </tr>\n",
       "  </tbody>\n",
       "</table>\n",
       "</div>"
      ],
      "text/plain": [
       "                        Salary                                          \\\n",
       "                         count       mean       std      min       25%   \n",
       "Education                                                                \n",
       "Bachelor              252567.0   72599.08  16667.68   9081.0   58711.0   \n",
       "College                    0.0        NaN       NaN      NaN       NaN   \n",
       "Doctor                 17731.0  178403.68  70380.05  48109.0  124407.0   \n",
       "High School or Below   18915.0   61146.38  12105.35  21853.0   52054.0   \n",
       "Master                 12287.0  103734.52  17518.49  56414.0   88120.0   \n",
       "\n",
       "                                                    \n",
       "                           50%       75%       max  \n",
       "Education                                           \n",
       "Bachelor               71972.0   85866.0  105563.0  \n",
       "College                    NaN       NaN       NaN  \n",
       "Doctor                180440.0  236612.0  407228.0  \n",
       "High School or Below   61806.0   71344.0   93875.0  \n",
       "Master                105487.0  118530.0  133080.0  "
      ]
     },
     "execution_count": 40,
     "metadata": {},
     "output_type": "execute_result"
    }
   ],
   "source": [
    "groupby_education = round(df[['Salary','Education']].groupby(['Education']).describe(),2)\n",
    "groupby_education"
   ]
  },
  {
   "cell_type": "markdown",
   "metadata": {},
   "source": [
    "Parece que todos los valroes de la categoria College son nulos y su suma da cero, por lo que nos hace sospechas que todos los nulos de Salary corresponden a un unico perfil"
   ]
  },
  {
   "cell_type": "code",
   "execution_count": 41,
   "metadata": {},
   "outputs": [
    {
     "data": {
      "text/plain": [
       "102260"
      ]
     },
     "execution_count": 41,
     "metadata": {},
     "output_type": "execute_result"
    }
   ],
   "source": [
    "#Vemos todos los nulos que hay en salario\n",
    "nulos_salary = df[\"Salary\"].isnull().sum()\n",
    "nulos_salary"
   ]
  },
  {
   "cell_type": "code",
   "execution_count": 42,
   "metadata": {},
   "outputs": [
    {
     "data": {
      "text/plain": [
       "Salary    102260\n",
       "dtype: int64"
      ]
     },
     "execution_count": 42,
     "metadata": {},
     "output_type": "execute_result"
    }
   ],
   "source": [
    "# Mostrar solo la columna 'Education' filtrada por 'College'\n",
    "nulos_salary_collage = df[df['Education'] == 'College'][[\"Salary\"]].isnull().sum()\n",
    "nulos_salary_collage\n"
   ]
  },
  {
   "cell_type": "code",
   "execution_count": 43,
   "metadata": {},
   "outputs": [
    {
     "name": "stdout",
     "output_type": "stream",
     "text": [
      "El total de nulos de Salary menos el total de nulos de Salary en Collage es Salary    0\n",
      "dtype: int64\n"
     ]
    }
   ],
   "source": [
    "print(f\"El total de nulos de Salary menos el total de nulos de Salary en Collage es {nulos_salary-nulos_salary_collage}\")"
   ]
  },
  {
   "cell_type": "markdown",
   "metadata": {},
   "source": [
    "Con esto vemos que por alguna razón, sólo las personas cuyo nivel educativo es Collage no tiene rellenada la casilla de salario. Esto puede ser bastante sospechoso ya que todas las personas de un mismo grupo de estudios no hayan querido dar sus datos de salario y el resto de los grupos todo el mundo si rompe la hipotesis de que hay gente que no ha querido contestar. Esto parece un error en la propia recogida de datos, quizas que si alguien estudiaba \"College\" luego saltaba la pregunta del salario.  \n",
    "En cualquier caso, al suponer que es el 25% de los datos, si sustituimos por un 0 puede desviar muchisimo cualquier calculo estadístico con salario, por lo que se desecha esa idea. \n",
    "Se ha decidido dejar los nulos. Por un lado , en la cancelacion en mes y año porque se interpreta que los clientes que tienen nulos es porque no han cancelado y además no se nos ha pedido la interpretación de dichos datos. En segundo lugar, también se va a conservar los nulos de salario. Al ser un porcentaje tan alto, con una cantidad tan grande de datos hacer cualquier imputación podrían alterar mucho la media, moda, etc. Además, se nos pide unicamente el salario con el nivel de estudios. En este caso, se omitirá las personas que han estudiao en \"Collage\"."
   ]
  },
  {
   "cell_type": "markdown",
   "metadata": {},
   "source": [
    "# Fase 2: Visualización"
   ]
  },
  {
   "cell_type": "markdown",
   "metadata": {},
   "source": [
    "## 1. ¿Cómo se distribuye la cantidad de vuelos reservados por mes durante el año?"
   ]
  },
  {
   "cell_type": "markdown",
   "metadata": {},
   "source": [
    "Para incluir las categorias de vuelos reservados y  mes del año, entendiendo que no importa el año sino el mes en si, se hará un groupby con estas dos categorias sumando todos los vuelos"
   ]
  },
  {
   "cell_type": "code",
   "execution_count": 44,
   "metadata": {},
   "outputs": [],
   "source": [
    "monthly_flights = df.groupby('Month')['Flights Booked'].sum().reset_index()\n",
    "\n"
   ]
  },
  {
   "cell_type": "markdown",
   "metadata": {},
   "source": [
    "Tras probar diferentes tipos de gráficas, se ve mejor la Barplot para leer los datos. Además se sustituye el número de los meses que esta representado en la columna Month por el nombre de los meses para que el gráfico se más comprensible"
   ]
  },
  {
   "cell_type": "code",
   "execution_count": 45,
   "metadata": {},
   "outputs": [
    {
     "data": {
      "image/png": "[encoded data removed]",
      "text/plain": [
       "<Figure size 1000x600 with 1 Axes>"
      ]
     },
     "metadata": {},
     "output_type": "display_data"
    }
   ],
   "source": [
    "plt.figure(figsize=(10, 6))\n",
    "sns.barplot(x='Month', \n",
    "            y='Flights Booked', \n",
    "            data=monthly_flights, \n",
    "            palette='Blues_d')\n",
    "plt.title('Distribucion de la cantidad de vuelos reservados por mes durante el año')\n",
    "plt.xlabel('Mes')\n",
    "plt.ylabel('Vuelos Reservados')\n",
    "plt.xticks(range(0, 12), ['Jan', 'Feb', 'Mar', 'Abr', 'May', 'Jun', 'Jul', 'Ago', 'Sep', 'Oct', 'Nov', 'Dic']) \n",
    "plt.show()\n"
   ]
  },
  {
   "cell_type": "markdown",
   "metadata": {},
   "source": [
    "Se puede observar que en los meses de verano (de junio a septiembre) hay más vuelos coincidiendo ocn las vacaciones estivales y luego vuelve a ver un repunte en diciembre, posiblemente con motivo de la navidad, también temporada alta de turismo y viajes familiares."
   ]
  },
  {
   "cell_type": "markdown",
   "metadata": {},
   "source": [
    "## 2. ¿Existe una relación entre la distancia de los vuelos y los puntos acumulados por los cliente?\n"
   ]
  },
  {
   "cell_type": "markdown",
   "metadata": {},
   "source": [
    "Primero se revisan un poco los datos de las dos columnas que necesitamos para seleccionarel gráfico "
   ]
  },
  {
   "cell_type": "code",
   "execution_count": 46,
   "metadata": {},
   "outputs": [
    {
     "data": {
      "text/plain": [
       "count    403760.000000\n",
       "mean        124.263761\n",
       "std         146.696179\n",
       "min           0.000000\n",
       "25%           0.000000\n",
       "50%          53.000000\n",
       "75%         240.000000\n",
       "max         676.500000\n",
       "Name: Points Accumulated, dtype: float64"
      ]
     },
     "execution_count": 46,
     "metadata": {},
     "output_type": "execute_result"
    }
   ],
   "source": [
    "df[\"Points Accumulated\"].describe()"
   ]
  },
  {
   "cell_type": "code",
   "execution_count": 47,
   "metadata": {},
   "outputs": [
    {
     "data": {
      "text/plain": [
       "Loyalty Card\n",
       "Star      183745\n",
       "Nova      136883\n",
       "Aurora     83132\n",
       "Name: count, dtype: int64"
      ]
     },
     "execution_count": 47,
     "metadata": {},
     "output_type": "execute_result"
    }
   ],
   "source": [
    "df['Loyalty Card'].value_counts()"
   ]
  },
  {
   "cell_type": "markdown",
   "metadata": {},
   "source": [
    "Se crea una nueva columan llamada Distanceper Points para ver la representacion de la misma en la grafica y hacerla más legible"
   ]
  },
  {
   "cell_type": "code",
   "execution_count": 48,
   "metadata": {},
   "outputs": [],
   "source": [
    "df[\"Distance per Points\"] = (df['Distance']/df['Points Accumulated']).round(0)"
   ]
  },
  {
   "cell_type": "markdown",
   "metadata": {},
   "source": [
    "Para visualizar la relación entre dos columnas se usa el tipo de gráfico Scaterplot."
   ]
  },
  {
   "cell_type": "code",
   "execution_count": 49,
   "metadata": {},
   "outputs": [
    {
     "data": {
      "image/png": "[encoded data removed]",
      "text/plain": [
       "<Figure size 1000x600 with 1 Axes>"
      ]
     },
     "metadata": {},
     "output_type": "display_data"
    }
   ],
   "source": [
    "plt.figure(figsize=(10, 6))\n",
    "sns.scatterplot(x='Distance', \n",
    "                y='Points Accumulated', \n",
    "                data=df, \n",
    "                hue='Distance per Points', \n",
    "                palette = \"Blues_d\")\n",
    "plt.title('Relación entre Distancia y Puntos Acumulados')\n",
    "plt.xlabel('Distancia')\n",
    "plt.ylabel('Puntos acumulados')\n",
    "plt.show()"
   ]
  },
  {
   "cell_type": "code",
   "execution_count": 50,
   "metadata": {},
   "outputs": [
    {
     "name": "stdout",
     "output_type": "stream",
     "text": [
      "Coeficiente de correlación: 0.9945458005650538\n"
     ]
    }
   ],
   "source": [
    "correlation = df['Distance'].corr(df['Points Accumulated'])\n",
    "print(f'Coeficiente de correlación: {correlation}')\n"
   ]
  },
  {
   "cell_type": "markdown",
   "metadata": {},
   "source": [
    "En la gráfica se ve que a cuanta más distancia recorrida, más puntos acumulados,por lo que se puede determinar que hay una relación entre estos. Además se ha calculado la correlación  y es del 0.9945458005650538, muy próximo a 1 por lo que hay una alta correlación entre ambos datos."
   ]
  },
  {
   "cell_type": "markdown",
   "metadata": {},
   "source": [
    "## 3. ¿Cuál es la distribución de los clientes por provincia o estado?"
   ]
  },
  {
   "cell_type": "markdown",
   "metadata": {},
   "source": [
    "Se vuelve a elegir el tipo de gráfico Barplot para ver la distribucion en este caso de las diferentes provincias y se coge el \"Loyalty Number\" que corresponde al ID de cada persona agrupandolo por provincias"
   ]
  },
  {
   "cell_type": "code",
   "execution_count": 51,
   "metadata": {},
   "outputs": [],
   "source": [
    "\n",
    "distribucion_clientes = df.groupby(\"Province\")[\"Loyalty Number\"].count().reset_index()\n"
   ]
  },
  {
   "cell_type": "code",
   "execution_count": 52,
   "metadata": {},
   "outputs": [
    {
     "data": {
      "text/html": [
       "<div>\n",
       "<style scoped>\n",
       "    .dataframe tbody tr th:only-of-type {\n",
       "        vertical-align: middle;\n",
       "    }\n",
       "\n",
       "    .dataframe tbody tr th {\n",
       "        vertical-align: top;\n",
       "    }\n",
       "\n",
       "    .dataframe thead th {\n",
       "        text-align: right;\n",
       "    }\n",
       "</style>\n",
       "<table border=\"1\" class=\"dataframe\">\n",
       "  <thead>\n",
       "    <tr style=\"text-align: right;\">\n",
       "      <th></th>\n",
       "      <th>Province</th>\n",
       "      <th>Loyalty Number</th>\n",
       "    </tr>\n",
       "  </thead>\n",
       "  <tbody>\n",
       "    <tr>\n",
       "      <th>0</th>\n",
       "      <td>Alberta</td>\n",
       "      <td>23360</td>\n",
       "    </tr>\n",
       "    <tr>\n",
       "      <th>1</th>\n",
       "      <td>British Columbia</td>\n",
       "      <td>106442</td>\n",
       "    </tr>\n",
       "    <tr>\n",
       "      <th>2</th>\n",
       "      <td>Manitoba</td>\n",
       "      <td>15900</td>\n",
       "    </tr>\n",
       "    <tr>\n",
       "      <th>3</th>\n",
       "      <td>New Brunswick</td>\n",
       "      <td>15352</td>\n",
       "    </tr>\n",
       "    <tr>\n",
       "      <th>4</th>\n",
       "      <td>Newfoundland</td>\n",
       "      <td>6244</td>\n",
       "    </tr>\n",
       "    <tr>\n",
       "      <th>5</th>\n",
       "      <td>Nova Scotia</td>\n",
       "      <td>12507</td>\n",
       "    </tr>\n",
       "    <tr>\n",
       "      <th>6</th>\n",
       "      <td>Ontario</td>\n",
       "      <td>130258</td>\n",
       "    </tr>\n",
       "    <tr>\n",
       "      <th>7</th>\n",
       "      <td>Prince Edward Island</td>\n",
       "      <td>1584</td>\n",
       "    </tr>\n",
       "    <tr>\n",
       "      <th>8</th>\n",
       "      <td>Quebec</td>\n",
       "      <td>79573</td>\n",
       "    </tr>\n",
       "    <tr>\n",
       "      <th>9</th>\n",
       "      <td>Saskatchewan</td>\n",
       "      <td>9861</td>\n",
       "    </tr>\n",
       "    <tr>\n",
       "      <th>10</th>\n",
       "      <td>Yukon</td>\n",
       "      <td>2679</td>\n",
       "    </tr>\n",
       "  </tbody>\n",
       "</table>\n",
       "</div>"
      ],
      "text/plain": [
       "                Province  Loyalty Number\n",
       "0                Alberta           23360\n",
       "1       British Columbia          106442\n",
       "2               Manitoba           15900\n",
       "3          New Brunswick           15352\n",
       "4           Newfoundland            6244\n",
       "5            Nova Scotia           12507\n",
       "6                Ontario          130258\n",
       "7   Prince Edward Island            1584\n",
       "8                 Quebec           79573\n",
       "9           Saskatchewan            9861\n",
       "10                 Yukon            2679"
      ]
     },
     "execution_count": 52,
     "metadata": {},
     "output_type": "execute_result"
    }
   ],
   "source": [
    "distribucion_clientes"
   ]
  },
  {
   "cell_type": "code",
   "execution_count": 53,
   "metadata": {},
   "outputs": [
    {
     "data": {
      "image/png": "[encoded data removed]",
      "text/plain": [
       "<Figure size 1000x600 with 1 Axes>"
      ]
     },
     "metadata": {},
     "output_type": "display_data"
    }
   ],
   "source": [
    "plt.figure(figsize=(10, 6))\n",
    "sns.barplot(x='Province', y='Loyalty Number', data=distribucion_clientes, palette='Blues_d')\n",
    "plt.title('Distribucion de los clientes por provincia')\n",
    "plt.xlabel('Provincia')\n",
    "plt.ylabel('Clientes')\n",
    "plt.xticks(rotation=45)\n",
    "plt.show()\n"
   ]
  },
  {
   "cell_type": "markdown",
   "metadata": {},
   "source": [
    "Se puede ver que principalmente hay más cliente en Onterio, seguido de British columbia y Quebec. Esto se puede ser a que en esas pronvincias hay más o mayores aeropuertos o que opere la aerolinea en los mismos con más vuelos que en las otras ciudades."
   ]
  },
  {
   "cell_type": "markdown",
   "metadata": {},
   "source": [
    "## 4. ¿Cómo se compara el salario promedio entre los diferentes niveles educativos de los clientes?"
   ]
  },
  {
   "cell_type": "markdown",
   "metadata": {},
   "source": [
    "Para comprar datos se va a usar el tipo de gráfica Bar Plot.  \n",
    "Además, sabemos que al cruzar salario y educación, la categoría College  esta completa de nulos, por lo que se va a decidir eliminarla en este caso y recordar el error a la hora de recoger el dato de College. Se podría mantener en la gráfica pero sin ella queda más limpia."
   ]
  },
  {
   "cell_type": "code",
   "execution_count": 54,
   "metadata": {},
   "outputs": [],
   "source": [
    "salario_promedio_estudio =df[[\"Education\",\"Salary\"]].groupby(\"Education\")['Salary'].mean().reset_index()"
   ]
  },
  {
   "cell_type": "code",
   "execution_count": 55,
   "metadata": {},
   "outputs": [],
   "source": [
    "salario_promedio_estudio = salario_promedio_estudio.round(2)"
   ]
  },
  {
   "cell_type": "code",
   "execution_count": 56,
   "metadata": {},
   "outputs": [],
   "source": [
    "salario_promedio_estudio['dummy_education'] = salario_promedio_estudio['Education'].map({'High School or Below':1,'College':2,'Bachelor':3,'Master':4,'Doctor':5})\n",
    "salario_promedio_estudio = salario_promedio_estudio.sort_values('dummy_education')"
   ]
  },
  {
   "cell_type": "code",
   "execution_count": 57,
   "metadata": {},
   "outputs": [],
   "source": [
    "df_na = salario_promedio_estudio.dropna()"
   ]
  },
  {
   "cell_type": "code",
   "execution_count": 58,
   "metadata": {},
   "outputs": [
    {
     "data": {
      "image/png": "[encoded data removed]",
      "text/plain": [
       "<Figure size 1000x600 with 1 Axes>"
      ]
     },
     "metadata": {},
     "output_type": "display_data"
    }
   ],
   "source": [
    "plt.figure(figsize=(10, 6))\n",
    "sns.barplot(x='Education', \n",
    "            y='Salary', \n",
    "            data=df_na, \n",
    "            palette='Blues_d')\n",
    "plt.title('Distribucion del salario promedio por nivel educativo')\n",
    "plt.xlabel('Educacion')\n",
    "plt.ylabel('Promedio Salario')\n",
    "plt.xticks(rotation=45) \n",
    "plt.show()"
   ]
  },
  {
   "cell_type": "markdown",
   "metadata": {},
   "source": [
    "Se puede observar que a mayor nivel de estudios, mayor es el salario de los clientes. Esto indica en los datos estan bien recogidos y tienen lógica indicando la tendencia social que hay con la relacion salario y estudios"
   ]
  },
  {
   "cell_type": "markdown",
   "metadata": {},
   "source": [
    "## 5. ¿Cuál es la proporción de clientes con diferentes tipos de tarjetas de fidelidad?"
   ]
  },
  {
   "cell_type": "markdown",
   "metadata": {},
   "source": [
    "Para ver la proporción se va a usar un grafico Pie y transformando los datos a porcentajes para una mejor comprensión de los mismos."
   ]
  },
  {
   "cell_type": "code",
   "execution_count": 59,
   "metadata": {},
   "outputs": [],
   "source": [
    "tipo_tarjeta = df[[\"Loyalty Number\",\"Loyalty Card\"]].groupby([\"Loyalty Card\"]).count()"
   ]
  },
  {
   "cell_type": "code",
   "execution_count": 60,
   "metadata": {},
   "outputs": [
    {
     "data": {
      "text/html": [
       "<div>\n",
       "<style scoped>\n",
       "    .dataframe tbody tr th:only-of-type {\n",
       "        vertical-align: middle;\n",
       "    }\n",
       "\n",
       "    .dataframe tbody tr th {\n",
       "        vertical-align: top;\n",
       "    }\n",
       "\n",
       "    .dataframe thead th {\n",
       "        text-align: right;\n",
       "    }\n",
       "</style>\n",
       "<table border=\"1\" class=\"dataframe\">\n",
       "  <thead>\n",
       "    <tr style=\"text-align: right;\">\n",
       "      <th></th>\n",
       "      <th>Loyalty Number</th>\n",
       "    </tr>\n",
       "    <tr>\n",
       "      <th>Loyalty Card</th>\n",
       "      <th></th>\n",
       "    </tr>\n",
       "  </thead>\n",
       "  <tbody>\n",
       "    <tr>\n",
       "      <th>Aurora</th>\n",
       "      <td>83132</td>\n",
       "    </tr>\n",
       "    <tr>\n",
       "      <th>Nova</th>\n",
       "      <td>136883</td>\n",
       "    </tr>\n",
       "    <tr>\n",
       "      <th>Star</th>\n",
       "      <td>183745</td>\n",
       "    </tr>\n",
       "  </tbody>\n",
       "</table>\n",
       "</div>"
      ],
      "text/plain": [
       "              Loyalty Number\n",
       "Loyalty Card                \n",
       "Aurora                 83132\n",
       "Nova                  136883\n",
       "Star                  183745"
      ]
     },
     "execution_count": 60,
     "metadata": {},
     "output_type": "execute_result"
    }
   ],
   "source": [
    "tipo_tarjeta"
   ]
  },
  {
   "cell_type": "code",
   "execution_count": 61,
   "metadata": {},
   "outputs": [
    {
     "data": {
      "image/png": "[encoded data removed]",
      "text/plain": [
       "<Figure size 800x800 with 1 Axes>"
      ]
     },
     "metadata": {},
     "output_type": "display_data"
    }
   ],
   "source": [
    "plt.figure(figsize=(8, 8))\n",
    "labels = tipo_tarjeta.index\n",
    "sizes = tipo_tarjeta['Loyalty Number'] \n",
    "plt.pie(sizes, labels=labels, \n",
    "        autopct='%1.1f%%', \n",
    "        startangle=90, \n",
    "        colors = ['#08519c','#4292c6','#9ecae1'] )\n",
    "plt.title('Distribución por tipo de Tarjeta de Fidelidad')\n",
    "\n",
    "plt.axis('equal') \n",
    "plt.show()"
   ]
  },
  {
   "cell_type": "markdown",
   "metadata": {},
   "source": [
    "Se puede ver que la tarjeta más popular es la Star, seguida con un tercio de la población que indica que es la Nova la que usa y por último la menos usada e sla Aurora"
   ]
  },
  {
   "cell_type": "markdown",
   "metadata": {},
   "source": [
    "## 6. ¿Cómo se distribuyen los clientes según su estado civil y género?"
   ]
  },
  {
   "cell_type": "markdown",
   "metadata": {},
   "source": [
    "Es necesario agrupar los clientes por las caractrísticas solicitadas a través de un group by"
   ]
  },
  {
   "cell_type": "code",
   "execution_count": 62,
   "metadata": {},
   "outputs": [],
   "source": [
    "genero_estadocivil =df[['Loyalty Number','Gender','Marital Status']].groupby(['Gender','Marital Status']).count()"
   ]
  },
  {
   "cell_type": "code",
   "execution_count": 63,
   "metadata": {},
   "outputs": [
    {
     "data": {
      "image/png": "[encoded data removed]",
      "text/plain": [
       "<Figure size 1000x600 with 1 Axes>"
      ]
     },
     "metadata": {},
     "output_type": "display_data"
    }
   ],
   "source": [
    "plt.figure(figsize=(10, 6))\n",
    "sns.barplot(x='Gender', \n",
    "            y='Loyalty Number', \n",
    "            hue='Marital Status', \n",
    "            data=genero_estadocivil, \n",
    "            palette='Blues_d')\n",
    "\n",
    "plt.title('Distribucion de clientes segun edad, estado civil y género')\n",
    "plt.xlabel('Género')\n",
    "plt.ylabel('Clientes/as')\n",
    "plt.show()\n"
   ]
  },
  {
   "cell_type": "markdown",
   "metadata": {},
   "source": [
    "Se ve que no hay diferencias dentro de la cuestión de género con respecto al estado civil de hombre y mujeres. Lo que si se aprecia es la tendencia al estado civil \"Married\"  principalmente, seguido de  la población soltera y en tercer lugar la divorciada"
   ]
  },
  {
   "cell_type": "markdown",
   "metadata": {},
   "source": [
    "# BONUS Fase 3: Evaluación de Diferencias en Reservas de Vuelos por Nivel Educativo"
   ]
  },
  {
   "cell_type": "markdown",
   "metadata": {},
   "source": [
    "## 1. Preparación de Datos: Filtra el conjunto de datos para incluir únicamente las columnas relevantes:\n",
    "'Flights Booked' y 'Education'."
   ]
  },
  {
   "cell_type": "code",
   "execution_count": 64,
   "metadata": {},
   "outputs": [],
   "source": [
    "df_filtrado = df[['Flights Booked','Education']]"
   ]
  },
  {
   "cell_type": "code",
   "execution_count": 65,
   "metadata": {},
   "outputs": [
    {
     "data": {
      "text/html": [
       "<div>\n",
       "<style scoped>\n",
       "    .dataframe tbody tr th:only-of-type {\n",
       "        vertical-align: middle;\n",
       "    }\n",
       "\n",
       "    .dataframe tbody tr th {\n",
       "        vertical-align: top;\n",
       "    }\n",
       "\n",
       "    .dataframe thead th {\n",
       "        text-align: right;\n",
       "    }\n",
       "</style>\n",
       "<table border=\"1\" class=\"dataframe\">\n",
       "  <thead>\n",
       "    <tr style=\"text-align: right;\">\n",
       "      <th></th>\n",
       "      <th>Flights Booked</th>\n",
       "      <th>Education</th>\n",
       "    </tr>\n",
       "  </thead>\n",
       "  <tbody>\n",
       "    <tr>\n",
       "      <th>0</th>\n",
       "      <td>3</td>\n",
       "      <td>Bachelor</td>\n",
       "    </tr>\n",
       "    <tr>\n",
       "      <th>1</th>\n",
       "      <td>10</td>\n",
       "      <td>College</td>\n",
       "    </tr>\n",
       "    <tr>\n",
       "      <th>2</th>\n",
       "      <td>6</td>\n",
       "      <td>College</td>\n",
       "    </tr>\n",
       "    <tr>\n",
       "      <th>3</th>\n",
       "      <td>0</td>\n",
       "      <td>Bachelor</td>\n",
       "    </tr>\n",
       "    <tr>\n",
       "      <th>4</th>\n",
       "      <td>0</td>\n",
       "      <td>Bachelor</td>\n",
       "    </tr>\n",
       "    <tr>\n",
       "      <th>...</th>\n",
       "      <td>...</td>\n",
       "      <td>...</td>\n",
       "    </tr>\n",
       "    <tr>\n",
       "      <th>403755</th>\n",
       "      <td>0</td>\n",
       "      <td>College</td>\n",
       "    </tr>\n",
       "    <tr>\n",
       "      <th>403756</th>\n",
       "      <td>0</td>\n",
       "      <td>Doctor</td>\n",
       "    </tr>\n",
       "    <tr>\n",
       "      <th>403757</th>\n",
       "      <td>3</td>\n",
       "      <td>Bachelor</td>\n",
       "    </tr>\n",
       "    <tr>\n",
       "      <th>403758</th>\n",
       "      <td>0</td>\n",
       "      <td>College</td>\n",
       "    </tr>\n",
       "    <tr>\n",
       "      <th>403759</th>\n",
       "      <td>0</td>\n",
       "      <td>Bachelor</td>\n",
       "    </tr>\n",
       "  </tbody>\n",
       "</table>\n",
       "<p>403760 rows × 2 columns</p>\n",
       "</div>"
      ],
      "text/plain": [
       "        Flights Booked Education\n",
       "0                    3  Bachelor\n",
       "1                   10   College\n",
       "2                    6   College\n",
       "3                    0  Bachelor\n",
       "4                    0  Bachelor\n",
       "...                ...       ...\n",
       "403755               0   College\n",
       "403756               0    Doctor\n",
       "403757               3  Bachelor\n",
       "403758               0   College\n",
       "403759               0  Bachelor\n",
       "\n",
       "[403760 rows x 2 columns]"
      ]
     },
     "execution_count": 65,
     "metadata": {},
     "output_type": "execute_result"
    }
   ],
   "source": [
    "df_filtrado"
   ]
  },
  {
   "cell_type": "markdown",
   "metadata": {},
   "source": [
    "## 2. Análisis Descriptivo: Agrupa los datos por nivel educativo y calcula estadísticas descriptivasbásicas (como el promedio, la desviación estandar) del número de vuelos reservados para cada grupo."
   ]
  },
  {
   "cell_type": "code",
   "execution_count": 66,
   "metadata": {},
   "outputs": [],
   "source": [
    "df_descriptivo = df_filtrado.groupby(\"Education\")[\"Flights Booked\"].agg(mean_flights='mean',\n",
    "    median_flights = 'median',\n",
    "    moda_flights = pd.Series.mode,\n",
    "    varianza_flights = 'var',\n",
    "    std_flights='std',\n",
    "    count_flights='count',\n",
    "    min_flights='min',\n",
    "    max_flights='max')"
   ]
  },
  {
   "cell_type": "code",
   "execution_count": 67,
   "metadata": {},
   "outputs": [
    {
     "data": {
      "text/html": [
       "<div>\n",
       "<style scoped>\n",
       "    .dataframe tbody tr th:only-of-type {\n",
       "        vertical-align: middle;\n",
       "    }\n",
       "\n",
       "    .dataframe tbody tr th {\n",
       "        vertical-align: top;\n",
       "    }\n",
       "\n",
       "    .dataframe thead th {\n",
       "        text-align: right;\n",
       "    }\n",
       "</style>\n",
       "<table border=\"1\" class=\"dataframe\">\n",
       "  <thead>\n",
       "    <tr style=\"text-align: right;\">\n",
       "      <th></th>\n",
       "      <th>mean_flights</th>\n",
       "      <th>median_flights</th>\n",
       "      <th>moda_flights</th>\n",
       "      <th>varianza_flights</th>\n",
       "      <th>std_flights</th>\n",
       "      <th>count_flights</th>\n",
       "      <th>min_flights</th>\n",
       "      <th>max_flights</th>\n",
       "    </tr>\n",
       "    <tr>\n",
       "      <th>Education</th>\n",
       "      <th></th>\n",
       "      <th></th>\n",
       "      <th></th>\n",
       "      <th></th>\n",
       "      <th></th>\n",
       "      <th></th>\n",
       "      <th></th>\n",
       "      <th></th>\n",
       "    </tr>\n",
       "  </thead>\n",
       "  <tbody>\n",
       "    <tr>\n",
       "      <th>Bachelor</th>\n",
       "      <td>4.110288</td>\n",
       "      <td>1.0</td>\n",
       "      <td>0</td>\n",
       "      <td>27.265843</td>\n",
       "      <td>5.221671</td>\n",
       "      <td>252567</td>\n",
       "      <td>0</td>\n",
       "      <td>21</td>\n",
       "    </tr>\n",
       "    <tr>\n",
       "      <th>College</th>\n",
       "      <td>4.169744</td>\n",
       "      <td>1.0</td>\n",
       "      <td>0</td>\n",
       "      <td>27.520938</td>\n",
       "      <td>5.246040</td>\n",
       "      <td>102260</td>\n",
       "      <td>0</td>\n",
       "      <td>21</td>\n",
       "    </tr>\n",
       "    <tr>\n",
       "      <th>Doctor</th>\n",
       "      <td>4.175512</td>\n",
       "      <td>1.0</td>\n",
       "      <td>0</td>\n",
       "      <td>27.635748</td>\n",
       "      <td>5.256971</td>\n",
       "      <td>17731</td>\n",
       "      <td>0</td>\n",
       "      <td>21</td>\n",
       "    </tr>\n",
       "    <tr>\n",
       "      <th>High School or Below</th>\n",
       "      <td>4.176209</td>\n",
       "      <td>1.0</td>\n",
       "      <td>0</td>\n",
       "      <td>27.449915</td>\n",
       "      <td>5.239267</td>\n",
       "      <td>18915</td>\n",
       "      <td>0</td>\n",
       "      <td>21</td>\n",
       "    </tr>\n",
       "    <tr>\n",
       "      <th>Master</th>\n",
       "      <td>4.200700</td>\n",
       "      <td>1.0</td>\n",
       "      <td>0</td>\n",
       "      <td>27.185339</td>\n",
       "      <td>5.213956</td>\n",
       "      <td>12287</td>\n",
       "      <td>0</td>\n",
       "      <td>21</td>\n",
       "    </tr>\n",
       "  </tbody>\n",
       "</table>\n",
       "</div>"
      ],
      "text/plain": [
       "                      mean_flights  median_flights  moda_flights  \\\n",
       "Education                                                          \n",
       "Bachelor                  4.110288             1.0             0   \n",
       "College                   4.169744             1.0             0   \n",
       "Doctor                    4.175512             1.0             0   \n",
       "High School or Below      4.176209             1.0             0   \n",
       "Master                    4.200700             1.0             0   \n",
       "\n",
       "                      varianza_flights  std_flights  count_flights  \\\n",
       "Education                                                            \n",
       "Bachelor                     27.265843     5.221671         252567   \n",
       "College                      27.520938     5.246040         102260   \n",
       "Doctor                       27.635748     5.256971          17731   \n",
       "High School or Below         27.449915     5.239267          18915   \n",
       "Master                       27.185339     5.213956          12287   \n",
       "\n",
       "                      min_flights  max_flights  \n",
       "Education                                       \n",
       "Bachelor                        0           21  \n",
       "College                         0           21  \n",
       "Doctor                          0           21  \n",
       "High School or Below            0           21  \n",
       "Master                          0           21  "
      ]
     },
     "execution_count": 67,
     "metadata": {},
     "output_type": "execute_result"
    }
   ],
   "source": [
    "df_descriptivo"
   ]
  },
  {
   "cell_type": "markdown",
   "metadata": {},
   "source": [
    "## 3. Prueba Estadística: Realiza una prueba de hipótesis para determinar si existe una diferencia\n",
    "significativa en el número de vuelos reservados entre los diferentes niveles educativos."
   ]
  },
  {
   "cell_type": "markdown",
   "metadata": {},
   "source": [
    "   **Hipótesis sobre los vuelos en función de la educación:**\n",
    "   - Hipótesis nula (H0): No hay diferencia en los vuelos entre las personas diferentes niveles.\n",
    "   - Hipótesis alternativa (H1): Hay una diferencia significativa en los vuelos entre los diferentes niveles de estudio.\n",
    "   - Prueba de hipótesis: Se podría realizar una prueba t de Student para comparar los ingresos promedio de estos dos grupos."
   ]
  },
  {
   "cell_type": "markdown",
   "metadata": {},
   "source": [
    "Para poder hacer la comparacion con varios grupos, en este caso los 5 niveles educativos, se va a usar el test ANOVA para  determinar si existe diferencia estadisticas significativas entre estos grupos. En el caso de que el  resultado de pvale < 0,05  significa que se rechaza la HO."
   ]
  },
  {
   "cell_type": "code",
   "execution_count": 68,
   "metadata": {},
   "outputs": [],
   "source": [
    "\n",
    "highschool = df_filtrado[df_filtrado['Education'] == 'High School or Below'][\"Flights Booked\"]\n",
    "college = df_filtrado[df_filtrado['Education'] == 'College'][\"Flights Booked\"]\n",
    "bachelor = df_filtrado[df_filtrado['Education'] == 'Bachelor'][\"Flights Booked\"]\n",
    "master = df_filtrado[df_filtrado['Education'] == 'Master'][\"Flights Booked\"]\n",
    "doctor = df_filtrado[df_filtrado['Education'] == 'Doctor'][\"Flights Booked\"]"
   ]
  },
  {
   "cell_type": "code",
   "execution_count": 69,
   "metadata": {},
   "outputs": [
    {
     "data": {
      "text/plain": [
       "F_onewayResult(statistic=3.57895773849834, pvalue=0.006352981736019541)"
      ]
     },
     "execution_count": 69,
     "metadata": {},
     "output_type": "execute_result"
    }
   ],
   "source": [
    "stats.f_oneway(highschool, college, bachelor, master, doctor)"
   ]
  },
  {
   "cell_type": "markdown",
   "metadata": {},
   "source": [
    "El pvalue < 0,05 por lo que se rechaza la Hipotesis 0 o nula. Esto quiere decir que al menos uno de los grupos educativos tiene un promedio de vuelos reservados significativamente diferente al del resto."
   ]
  },
  {
   "cell_type": "code",
   "execution_count": 70,
   "metadata": {},
   "outputs": [
    {
     "data": {
      "image/png": "[encoded data removed]",
      "text/plain": [
       "<Figure size 450x600 with 1 Axes>"
      ]
     },
     "metadata": {},
     "output_type": "display_data"
    }
   ],
   "source": [
    "g = sns.catplot(data= df_filtrado, \n",
    "                x=\"Education\",\n",
    "                y='Flights Booked',\n",
    "                palette= 'Blues_d',\n",
    "                kind='point',\n",
    "                height=6,\n",
    "                aspect=.75)\n",
    "g.despine(left=True)\n",
    "plt.title('Media de vuelos tomados por grupo educativo')\n",
    "plt.xlabel('Educacion')\n",
    "plt.ylabel('Flights Booked')\n",
    "plt.xticks(rotation=45) \n",
    "plt.show()\n"
   ]
  },
  {
   "cell_type": "markdown",
   "metadata": {},
   "source": [
    "Con el grafico se ve quela desviación que anula la H0 es el grupo de Bachelor"
   ]
  }
 ],
 "metadata": {
  "kernelspec": {
   "display_name": "Python 3",
   "language": "python",
   "name": "python3"
  },
  "language_info": {
   "codemirror_mode": {
    "name": "ipython",
    "version": 3
   },
   "file_extension": ".py",
   "mimetype": "text/x-python",
   "name": "python",
   "nbconvert_exporter": "python",
   "pygments_lexer": "ipython3",
   "version": "3.11.9"
  }
 },
 "nbformat": 4,
 "nbformat_minor": 2
}
